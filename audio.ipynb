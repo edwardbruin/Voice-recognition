{
 "cells": [
  {
   "cell_type": "code",
   "execution_count": 1,
   "metadata": {},
   "outputs": [
    {
     "name": "stderr",
     "output_type": "stream",
     "text": [
      "2024-05-05 13:41:36.273512: I tensorflow/tsl/cuda/cudart_stub.cc:28] Could not find cuda drivers on your machine, GPU will not be used.\n",
      "2024-05-05 13:41:36.332604: I tensorflow/tsl/cuda/cudart_stub.cc:28] Could not find cuda drivers on your machine, GPU will not be used.\n",
      "2024-05-05 13:41:37.529242: W tensorflow/compiler/tf2tensorrt/utils/py_utils.cc:38] TF-TRT Warning: Could not find TensorRT\n"
     ]
    }
   ],
   "source": [
    "from preprocess import *\n",
    "import keras\n",
    "from keras.models import Sequential\n",
    "from keras.layers import Dense, Dropout, Flatten, Conv2D, MaxPooling2D, LSTM\n",
    "from keras.utils import to_categorical\n",
    "import wandb\n",
    "from wandb.keras import WandbCallback\n",
    "import matplotlib.pyplot as plt"
   ]
  },
  {
   "cell_type": "code",
   "execution_count": 23,
   "metadata": {},
   "outputs": [
    {
     "data": {
      "text/html": [
       "Finishing last run (ID:26olrxbg) before initializing another..."
      ],
      "text/plain": [
       "<IPython.core.display.HTML object>"
      ]
     },
     "metadata": {},
     "output_type": "display_data"
    },
    {
     "data": {
      "application/vnd.jupyter.widget-view+json": {
       "model_id": "",
       "version_major": 2,
       "version_minor": 0
      },
      "text/plain": [
       "VBox(children=(Label(value='0.002 MB of 0.008 MB uploaded\\r'), FloatProgress(value=0.23858407079646018, max=1.…"
      ]
     },
     "metadata": {},
     "output_type": "display_data"
    },
    {
     "data": {
      "text/html": [
       " View run <strong style=\"color:#cdcd00\">ancient-master-16</strong> at: <a href='https://wandb.ai/edwardnicholasbruin/uncategorized/runs/26olrxbg' target=\"_blank\">https://wandb.ai/edwardnicholasbruin/uncategorized/runs/26olrxbg</a><br/> View project at: <a href='https://wandb.ai/edwardnicholasbruin/uncategorized' target=\"_blank\">https://wandb.ai/edwardnicholasbruin/uncategorized</a><br/>Synced 4 W&B file(s), 0 media file(s), 0 artifact file(s) and 0 other file(s)"
      ],
      "text/plain": [
       "<IPython.core.display.HTML object>"
      ]
     },
     "metadata": {},
     "output_type": "display_data"
    },
    {
     "data": {
      "text/html": [
       "Find logs at: <code>./wandb/run-20240505_134433-26olrxbg/logs</code>"
      ],
      "text/plain": [
       "<IPython.core.display.HTML object>"
      ]
     },
     "metadata": {},
     "output_type": "display_data"
    },
    {
     "data": {
      "text/html": [
       "Successfully finished last run (ID:26olrxbg). Initializing new run:<br/>"
      ],
      "text/plain": [
       "<IPython.core.display.HTML object>"
      ]
     },
     "metadata": {},
     "output_type": "display_data"
    },
    {
     "data": {
      "application/vnd.jupyter.widget-view+json": {
       "model_id": "1e814a237fd944bc8f06f56638994c76",
       "version_major": 2,
       "version_minor": 0
      },
      "text/plain": [
       "VBox(children=(Label(value='Waiting for wandb.init()...\\r'), FloatProgress(value=0.01111324610000237, max=1.0)…"
      ]
     },
     "metadata": {},
     "output_type": "display_data"
    },
    {
     "data": {
      "text/html": [
       "Tracking run with wandb version 0.16.6"
      ],
      "text/plain": [
       "<IPython.core.display.HTML object>"
      ]
     },
     "metadata": {},
     "output_type": "display_data"
    },
    {
     "data": {
      "text/html": [
       "Run data is saved locally in <code>/mnt/c/Users/edwar/OneDrive - UTS/jupyter notebooks/49275/videoCopy/wandb/run-20240505_134457-7ijx6ns3</code>"
      ],
      "text/plain": [
       "<IPython.core.display.HTML object>"
      ]
     },
     "metadata": {},
     "output_type": "display_data"
    },
    {
     "data": {
      "text/html": [
       "Syncing run <strong><a href='https://wandb.ai/edwardnicholasbruin/uncategorized/runs/7ijx6ns3' target=\"_blank\">civilized-transport-17</a></strong> to <a href='https://wandb.ai/edwardnicholasbruin/uncategorized' target=\"_blank\">Weights & Biases</a> (<a href='https://wandb.me/run' target=\"_blank\">docs</a>)<br/>"
      ],
      "text/plain": [
       "<IPython.core.display.HTML object>"
      ]
     },
     "metadata": {},
     "output_type": "display_data"
    },
    {
     "data": {
      "text/html": [
       " View project at <a href='https://wandb.ai/edwardnicholasbruin/uncategorized' target=\"_blank\">https://wandb.ai/edwardnicholasbruin/uncategorized</a>"
      ],
      "text/plain": [
       "<IPython.core.display.HTML object>"
      ]
     },
     "metadata": {},
     "output_type": "display_data"
    },
    {
     "data": {
      "text/html": [
       " View run at <a href='https://wandb.ai/edwardnicholasbruin/uncategorized/runs/7ijx6ns3' target=\"_blank\">https://wandb.ai/edwardnicholasbruin/uncategorized/runs/7ijx6ns3</a>"
      ],
      "text/plain": [
       "<IPython.core.display.HTML object>"
      ]
     },
     "metadata": {},
     "output_type": "display_data"
    }
   ],
   "source": [
    "wandb.init()\n",
    "config = wandb.config\n",
    "\n",
    "config.max_len = 11\n",
    "config.buckets = 20\n",
    "labels, _, _ = get_labels()"
   ]
  },
  {
   "cell_type": "code",
   "execution_count": 3,
   "metadata": {},
   "outputs": [
    {
     "name": "stderr",
     "output_type": "stream",
     "text": [
      "Saving vectors of label - 'down':   8%|████▏                                             | 1/12 [00:02<00:26,  2.39s/it]/mnt/c/Users/edwar/OneDrive - UTS/jupyter notebooks/49275/videoCopy/preprocess.py:22: UserWarning: PySoundFile failed. Trying audioread instead.\n",
      "  wave, sr = librosa.load(file_path, mono=True, sr=None)\n",
      "/home/edward/.local/lib/python3.8/site-packages/librosa/core/audio.py:183: FutureWarning: librosa.core.audio.__audioread_load\n",
      "\tDeprecated as of librosa version 0.10.0.\n",
      "\tIt will be removed in librosa version 1.0.\n",
      "  y, sr_native = __audioread_load(path, offset, duration, dtype)\n",
      "Saving vectors of label - 'down':  17%|████████▎                                         | 2/12 [00:02<00:10,  1.05s/it]/mnt/c/Users/edwar/OneDrive - UTS/jupyter notebooks/49275/videoCopy/preprocess.py:22: UserWarning: PySoundFile failed. Trying audioread instead.\n",
      "  wave, sr = librosa.load(file_path, mono=True, sr=None)\n",
      "/home/edward/.local/lib/python3.8/site-packages/librosa/core/audio.py:183: FutureWarning: librosa.core.audio.__audioread_load\n",
      "\tDeprecated as of librosa version 0.10.0.\n",
      "\tIt will be removed in librosa version 1.0.\n",
      "  y, sr_native = __audioread_load(path, offset, duration, dtype)\n",
      "Saving vectors of label - 'down':  33%|████████████████▋                                 | 4/12 [00:02<00:03,  2.31it/s]/mnt/c/Users/edwar/OneDrive - UTS/jupyter notebooks/49275/videoCopy/preprocess.py:22: UserWarning: PySoundFile failed. Trying audioread instead.\n",
      "  wave, sr = librosa.load(file_path, mono=True, sr=None)\n",
      "/home/edward/.local/lib/python3.8/site-packages/librosa/core/audio.py:183: FutureWarning: librosa.core.audio.__audioread_load\n",
      "\tDeprecated as of librosa version 0.10.0.\n",
      "\tIt will be removed in librosa version 1.0.\n",
      "  y, sr_native = __audioread_load(path, offset, duration, dtype)\n",
      "Saving vectors of label - 'down':  50%|█████████████████████████                         | 6/12 [00:02<00:01,  3.83it/s]/mnt/c/Users/edwar/OneDrive - UTS/jupyter notebooks/49275/videoCopy/preprocess.py:22: UserWarning: PySoundFile failed. Trying audioread instead.\n",
      "  wave, sr = librosa.load(file_path, mono=True, sr=None)\n",
      "/home/edward/.local/lib/python3.8/site-packages/librosa/core/audio.py:183: FutureWarning: librosa.core.audio.__audioread_load\n",
      "\tDeprecated as of librosa version 0.10.0.\n",
      "\tIt will be removed in librosa version 1.0.\n",
      "  y, sr_native = __audioread_load(path, offset, duration, dtype)\n",
      "Saving vectors of label - 'down':  67%|█████████████████████████████████▎                | 8/12 [00:02<00:00,  5.40it/s]/mnt/c/Users/edwar/OneDrive - UTS/jupyter notebooks/49275/videoCopy/preprocess.py:22: UserWarning: PySoundFile failed. Trying audioread instead.\n",
      "  wave, sr = librosa.load(file_path, mono=True, sr=None)\n",
      "/home/edward/.local/lib/python3.8/site-packages/librosa/core/audio.py:183: FutureWarning: librosa.core.audio.__audioread_load\n",
      "\tDeprecated as of librosa version 0.10.0.\n",
      "\tIt will be removed in librosa version 1.0.\n",
      "  y, sr_native = __audioread_load(path, offset, duration, dtype)\n",
      "Saving vectors of label - 'down':  83%|████████████████████████████████████████▊        | 10/12 [00:03<00:00,  7.01it/s]/mnt/c/Users/edwar/OneDrive - UTS/jupyter notebooks/49275/videoCopy/preprocess.py:22: UserWarning: PySoundFile failed. Trying audioread instead.\n",
      "  wave, sr = librosa.load(file_path, mono=True, sr=None)\n",
      "/home/edward/.local/lib/python3.8/site-packages/librosa/core/audio.py:183: FutureWarning: librosa.core.audio.__audioread_load\n",
      "\tDeprecated as of librosa version 0.10.0.\n",
      "\tIt will be removed in librosa version 1.0.\n",
      "  y, sr_native = __audioread_load(path, offset, duration, dtype)\n",
      "Saving vectors of label - 'down': 100%|█████████████████████████████████████████████████| 12/12 [00:03<00:00,  3.75it/s]\n",
      "Saving vectors of label - 'up':   0%|                                                            | 0/10 [00:00<?, ?it/s]/mnt/c/Users/edwar/OneDrive - UTS/jupyter notebooks/49275/videoCopy/preprocess.py:22: UserWarning: PySoundFile failed. Trying audioread instead.\n",
      "  wave, sr = librosa.load(file_path, mono=True, sr=None)\n",
      "/home/edward/.local/lib/python3.8/site-packages/librosa/core/audio.py:183: FutureWarning: librosa.core.audio.__audioread_load\n",
      "\tDeprecated as of librosa version 0.10.0.\n",
      "\tIt will be removed in librosa version 1.0.\n",
      "  y, sr_native = __audioread_load(path, offset, duration, dtype)\n",
      "Saving vectors of label - 'up':  20%|██████████▍                                         | 2/10 [00:00<00:00, 13.44it/s]/mnt/c/Users/edwar/OneDrive - UTS/jupyter notebooks/49275/videoCopy/preprocess.py:22: UserWarning: PySoundFile failed. Trying audioread instead.\n",
      "  wave, sr = librosa.load(file_path, mono=True, sr=None)\n",
      "/home/edward/.local/lib/python3.8/site-packages/librosa/core/audio.py:183: FutureWarning: librosa.core.audio.__audioread_load\n",
      "\tDeprecated as of librosa version 0.10.0.\n",
      "\tIt will be removed in librosa version 1.0.\n",
      "  y, sr_native = __audioread_load(path, offset, duration, dtype)\n",
      "Saving vectors of label - 'up':  40%|████████████████████▊                               | 4/10 [00:00<00:00, 13.59it/s]/mnt/c/Users/edwar/OneDrive - UTS/jupyter notebooks/49275/videoCopy/preprocess.py:22: UserWarning: PySoundFile failed. Trying audioread instead.\n",
      "  wave, sr = librosa.load(file_path, mono=True, sr=None)\n",
      "/home/edward/.local/lib/python3.8/site-packages/librosa/core/audio.py:183: FutureWarning: librosa.core.audio.__audioread_load\n",
      "\tDeprecated as of librosa version 0.10.0.\n",
      "\tIt will be removed in librosa version 1.0.\n",
      "  y, sr_native = __audioread_load(path, offset, duration, dtype)\n",
      "Saving vectors of label - 'up':  60%|███████████████████████████████▏                    | 6/10 [00:00<00:00, 14.22it/s]/mnt/c/Users/edwar/OneDrive - UTS/jupyter notebooks/49275/videoCopy/preprocess.py:22: UserWarning: PySoundFile failed. Trying audioread instead.\n",
      "  wave, sr = librosa.load(file_path, mono=True, sr=None)\n",
      "/home/edward/.local/lib/python3.8/site-packages/librosa/core/audio.py:183: FutureWarning: librosa.core.audio.__audioread_load\n",
      "\tDeprecated as of librosa version 0.10.0.\n",
      "\tIt will be removed in librosa version 1.0.\n",
      "  y, sr_native = __audioread_load(path, offset, duration, dtype)\n",
      "Saving vectors of label - 'up':  80%|█████████████████████████████████████████▌          | 8/10 [00:00<00:00, 13.74it/s]/mnt/c/Users/edwar/OneDrive - UTS/jupyter notebooks/49275/videoCopy/preprocess.py:22: UserWarning: PySoundFile failed. Trying audioread instead.\n",
      "  wave, sr = librosa.load(file_path, mono=True, sr=None)\n",
      "/home/edward/.local/lib/python3.8/site-packages/librosa/core/audio.py:183: FutureWarning: librosa.core.audio.__audioread_load\n",
      "\tDeprecated as of librosa version 0.10.0.\n",
      "\tIt will be removed in librosa version 1.0.\n",
      "  y, sr_native = __audioread_load(path, offset, duration, dtype)\n",
      "Saving vectors of label - 'up': 100%|███████████████████████████████████████████████████| 10/10 [00:00<00:00, 13.90it/s]\n"
     ]
    }
   ],
   "source": [
    "# Save data to array file first\n",
    "save_data_to_array(max_len=config.max_len, n_mfcc=config.buckets)"
   ]
  },
  {
   "cell_type": "code",
   "execution_count": 4,
   "metadata": {},
   "outputs": [],
   "source": [
    "# # Loading train set and test set\n",
    "X_train, X_test, y_train, y_test = get_train_test()"
   ]
  },
  {
   "cell_type": "code",
   "execution_count": 5,
   "metadata": {},
   "outputs": [],
   "source": [
    "# # Feature dimension\n",
    "channels = 1\n",
    "config.epochs = 50\n",
    "config.batch_size = 100\n",
    "\n",
    "num_classes = 2\n",
    "\n",
    "X_train = X_train.reshape(X_train.shape[0], config.buckets, config.max_len, channels)\n",
    "X_test = X_test.reshape(X_test.shape[0], config.buckets, config.max_len, channels)"
   ]
  },
  {
   "cell_type": "code",
   "execution_count": 6,
   "metadata": {},
   "outputs": [
    {
     "name": "stdout",
     "output_type": "stream",
     "text": [
      "1.0\n"
     ]
    },
    {
     "data": {
      "image/png": "[encoded data removed]",
      "text/plain": [
       "<Figure size 640x480 with 1 Axes>"
      ]
     },
     "metadata": {},
     "output_type": "display_data"
    }
   ],
   "source": [
    "plt.imshow(X_train[10, :, :, 0])\n",
    "print(y_train[10])"
   ]
  },
  {
   "cell_type": "code",
   "execution_count": 7,
   "metadata": {},
   "outputs": [],
   "source": [
    "y_train_hot = to_categorical(y_train)\n",
    "y_test_hot = to_categorical(y_test)"
   ]
  },
  {
   "cell_type": "code",
   "execution_count": 8,
   "metadata": {},
   "outputs": [
    {
     "name": "stderr",
     "output_type": "stream",
     "text": [
      "2024-05-05 13:41:47.306358: I tensorflow/compiler/xla/stream_executor/cuda/cuda_gpu_executor.cc:981] could not open file to read NUMA node: /sys/bus/pci/devices/0000:01:00.0/numa_node\n",
      "Your kernel may have been built without NUMA support.\n",
      "2024-05-05 13:41:47.309471: W tensorflow/core/common_runtime/gpu/gpu_device.cc:1960] Cannot dlopen some GPU libraries. Please make sure the missing libraries mentioned above are installed properly if you would like to use GPU. Follow the guide at https://www.tensorflow.org/install/gpu for how to download and setup the required libraries for your platform.\n",
      "Skipping registering GPU devices...\n"
     ]
    }
   ],
   "source": [
    "X_train = X_train.reshape(X_train.shape[0], config.buckets, config.max_len)\n",
    "X_test = X_test.reshape(X_test.shape[0], config.buckets, config.max_len)\n",
    "\n",
    "model = Sequential()\n",
    "model.add(Flatten(input_shape=(config.buckets, config.max_len)))\n",
    "model.add(Dense(num_classes, activation='softmax'))\n",
    "model.compile(loss=\"categorical_crossentropy\",\n",
    "                  optimizer=\"adam\",\n",
    "                  metrics=['accuracy'])"
   ]
  },
  {
   "cell_type": "code",
   "execution_count": 9,
   "metadata": {},
   "outputs": [
    {
     "data": {
      "text/html": [
       "Finishing last run (ID:5pyqx2nn) before initializing another..."
      ],
      "text/plain": [
       "<IPython.core.display.HTML object>"
      ]
     },
     "metadata": {},
     "output_type": "display_data"
    },
    {
     "data": {
      "application/vnd.jupyter.widget-view+json": {
       "model_id": "",
       "version_major": 2,
       "version_minor": 0
      },
      "text/plain": [
       "VBox(children=(Label(value='0.001 MB of 0.001 MB uploaded\\r'), FloatProgress(value=1.0, max=1.0)))"
      ]
     },
     "metadata": {},
     "output_type": "display_data"
    },
    {
     "data": {
      "text/html": [
       " View run <strong style=\"color:#cdcd00\">imperial-transport-13</strong> at: <a href='https://wandb.ai/edwardnicholasbruin/uncategorized/runs/5pyqx2nn' target=\"_blank\">https://wandb.ai/edwardnicholasbruin/uncategorized/runs/5pyqx2nn</a><br/> View project at: <a href='https://wandb.ai/edwardnicholasbruin/uncategorized' target=\"_blank\">https://wandb.ai/edwardnicholasbruin/uncategorized</a><br/>Synced 5 W&B file(s), 0 media file(s), 0 artifact file(s) and 0 other file(s)"
      ],
      "text/plain": [
       "<IPython.core.display.HTML object>"
      ]
     },
     "metadata": {},
     "output_type": "display_data"
    },
    {
     "data": {
      "text/html": [
       "Find logs at: <code>./wandb/run-20240505_134141-5pyqx2nn/logs</code>"
      ],
      "text/plain": [
       "<IPython.core.display.HTML object>"
      ]
     },
     "metadata": {},
     "output_type": "display_data"
    },
    {
     "data": {
      "text/html": [
       "Successfully finished last run (ID:5pyqx2nn). Initializing new run:<br/>"
      ],
      "text/plain": [
       "<IPython.core.display.HTML object>"
      ]
     },
     "metadata": {},
     "output_type": "display_data"
    },
    {
     "data": {
      "application/vnd.jupyter.widget-view+json": {
       "model_id": "aacc5736e8d5471aa8ce51bff0f2861a",
       "version_major": 2,
       "version_minor": 0
      },
      "text/plain": [
       "VBox(children=(Label(value='Waiting for wandb.init()...\\r'), FloatProgress(value=0.01111386912221456, max=1.0)…"
      ]
     },
     "metadata": {},
     "output_type": "display_data"
    },
    {
     "data": {
      "text/html": [
       "Tracking run with wandb version 0.16.6"
      ],
      "text/plain": [
       "<IPython.core.display.HTML object>"
      ]
     },
     "metadata": {},
     "output_type": "display_data"
    },
    {
     "data": {
      "text/html": [
       "Run data is saved locally in <code>/mnt/c/Users/edwar/OneDrive - UTS/jupyter notebooks/49275/videoCopy/wandb/run-20240505_134147-ho82fud4</code>"
      ],
      "text/plain": [
       "<IPython.core.display.HTML object>"
      ]
     },
     "metadata": {},
     "output_type": "display_data"
    },
    {
     "data": {
      "text/html": [
       "Syncing run <strong><a href='https://wandb.ai/edwardnicholasbruin/uncategorized/runs/ho82fud4' target=\"_blank\">mythical-cruiser-14</a></strong> to <a href='https://wandb.ai/edwardnicholasbruin/uncategorized' target=\"_blank\">Weights & Biases</a> (<a href='https://wandb.me/run' target=\"_blank\">docs</a>)<br/>"
      ],
      "text/plain": [
       "<IPython.core.display.HTML object>"
      ]
     },
     "metadata": {},
     "output_type": "display_data"
    },
    {
     "data": {
      "text/html": [
       " View project at <a href='https://wandb.ai/edwardnicholasbruin/uncategorized' target=\"_blank\">https://wandb.ai/edwardnicholasbruin/uncategorized</a>"
      ],
      "text/plain": [
       "<IPython.core.display.HTML object>"
      ]
     },
     "metadata": {},
     "output_type": "display_data"
    },
    {
     "data": {
      "text/html": [
       " View run at <a href='https://wandb.ai/edwardnicholasbruin/uncategorized/runs/ho82fud4' target=\"_blank\">https://wandb.ai/edwardnicholasbruin/uncategorized/runs/ho82fud4</a>"
      ],
      "text/plain": [
       "<IPython.core.display.HTML object>"
      ]
     },
     "metadata": {},
     "output_type": "display_data"
    },
    {
     "name": "stderr",
     "output_type": "stream",
     "text": [
      "\u001b[34m\u001b[1mwandb\u001b[0m: \u001b[33mWARNING\u001b[0m The save_model argument by default saves the model in the HDF5 format that cannot save custom objects like subclassed models and custom layers. This behavior will be deprecated in a future release in favor of the SavedModel format. Meanwhile, the HDF5 model is saved as W&B files and the SavedModel as W&B Artifacts.\n",
      "\u001b[34m\u001b[1mwandb\u001b[0m: \u001b[33mWARNING\u001b[0m The data_type argument of wandb.keras.WandbCallback is deprecated and will be removed in a future release. Please use input_type instead.\n",
      "\u001b[34m\u001b[1mwandb\u001b[0m: \u001b[33mWARNING\u001b[0m Setting input_type = data_type.\n"
     ]
    },
    {
     "name": "stdout",
     "output_type": "stream",
     "text": [
      "Epoch 1/50\n",
      "1/1 [==============================] - ETA: 0s - loss: 169.7142 - accuracy: 0.4615"
     ]
    },
    {
     "name": "stderr",
     "output_type": "stream",
     "text": [
      "\u001b[34m\u001b[1mwandb\u001b[0m: \u001b[33mWARNING\u001b[0m No validation_data set, pass a generator to the callback.\n",
      "/home/edward/.local/lib/python3.8/site-packages/keras/src/engine/training.py:3000: UserWarning: You are saving your model as an HDF5 file via `model.save()`. This file format is considered legacy. We recommend using instead the native Keras format, e.g. `model.save('my_model.keras')`.\n",
      "  saving_api.save_model(\n"
     ]
    },
    {
     "name": "stdout",
     "output_type": "stream",
     "text": [
      "INFO:tensorflow:Assets written to: /mnt/c/Users/edwar/OneDrive - UTS/jupyter notebooks/49275/videoCopy/wandb/run-20240505_134147-ho82fud4/files/model-best/assets\n"
     ]
    },
    {
     "name": "stderr",
     "output_type": "stream",
     "text": [
      "INFO:tensorflow:Assets written to: /mnt/c/Users/edwar/OneDrive - UTS/jupyter notebooks/49275/videoCopy/wandb/run-20240505_134147-ho82fud4/files/model-best/assets\n",
      "\u001b[34m\u001b[1mwandb\u001b[0m: Adding directory to artifact (/mnt/c/Users/edwar/OneDrive - UTS/jupyter notebooks/49275/videoCopy/wandb/run-20240505_134147-ho82fud4/files/model-best)... Done. 0.1s\n"
     ]
    },
    {
     "name": "stdout",
     "output_type": "stream",
     "text": [
      "1/1 [==============================] - 2s 2s/step - loss: 169.7142 - accuracy: 0.4615 - val_loss: 92.9754 - val_accuracy: 0.6667\n",
      "Epoch 2/50\n",
      "1/1 [==============================] - ETA: 0s - loss: 160.4216 - accuracy: 0.4615"
     ]
    },
    {
     "name": "stderr",
     "output_type": "stream",
     "text": [
      "\u001b[34m\u001b[1mwandb\u001b[0m: \u001b[33mWARNING\u001b[0m No validation_data set, pass a generator to the callback.\n",
      "/home/edward/.local/lib/python3.8/site-packages/keras/src/engine/training.py:3000: UserWarning: You are saving your model as an HDF5 file via `model.save()`. This file format is considered legacy. We recommend using instead the native Keras format, e.g. `model.save('my_model.keras')`.\n",
      "  saving_api.save_model(\n"
     ]
    },
    {
     "name": "stdout",
     "output_type": "stream",
     "text": [
      "INFO:tensorflow:Assets written to: /mnt/c/Users/edwar/OneDrive - UTS/jupyter notebooks/49275/videoCopy/wandb/run-20240505_134147-ho82fud4/files/model-best/assets\n"
     ]
    },
    {
     "name": "stderr",
     "output_type": "stream",
     "text": [
      "INFO:tensorflow:Assets written to: /mnt/c/Users/edwar/OneDrive - UTS/jupyter notebooks/49275/videoCopy/wandb/run-20240505_134147-ho82fud4/files/model-best/assets\n",
      "\u001b[34m\u001b[1mwandb\u001b[0m: Adding directory to artifact (/mnt/c/Users/edwar/OneDrive - UTS/jupyter notebooks/49275/videoCopy/wandb/run-20240505_134147-ho82fud4/files/model-best)... Done. 0.0s\n"
     ]
    },
    {
     "name": "stdout",
     "output_type": "stream",
     "text": [
      "1/1 [==============================] - 1s 856ms/step - loss: 160.4216 - accuracy: 0.4615 - val_loss: 87.3256 - val_accuracy: 0.6667\n",
      "Epoch 3/50\n",
      "1/1 [==============================] - ETA: 0s - loss: 151.1291 - accuracy: 0.4615"
     ]
    },
    {
     "name": "stderr",
     "output_type": "stream",
     "text": [
      "\u001b[34m\u001b[1mwandb\u001b[0m: \u001b[33mWARNING\u001b[0m No validation_data set, pass a generator to the callback.\n",
      "/home/edward/.local/lib/python3.8/site-packages/keras/src/engine/training.py:3000: UserWarning: You are saving your model as an HDF5 file via `model.save()`. This file format is considered legacy. We recommend using instead the native Keras format, e.g. `model.save('my_model.keras')`.\n",
      "  saving_api.save_model(\n"
     ]
    },
    {
     "name": "stdout",
     "output_type": "stream",
     "text": [
      "INFO:tensorflow:Assets written to: /mnt/c/Users/edwar/OneDrive - UTS/jupyter notebooks/49275/videoCopy/wandb/run-20240505_134147-ho82fud4/files/model-best/assets\n"
     ]
    },
    {
     "name": "stderr",
     "output_type": "stream",
     "text": [
      "INFO:tensorflow:Assets written to: /mnt/c/Users/edwar/OneDrive - UTS/jupyter notebooks/49275/videoCopy/wandb/run-20240505_134147-ho82fud4/files/model-best/assets\n",
      "\u001b[34m\u001b[1mwandb\u001b[0m: Adding directory to artifact (/mnt/c/Users/edwar/OneDrive - UTS/jupyter notebooks/49275/videoCopy/wandb/run-20240505_134147-ho82fud4/files/model-best)... Done. 0.0s\n"
     ]
    },
    {
     "name": "stdout",
     "output_type": "stream",
     "text": [
      "1/1 [==============================] - 1s 907ms/step - loss: 151.1291 - accuracy: 0.4615 - val_loss: 81.6756 - val_accuracy: 0.6667\n",
      "Epoch 4/50\n",
      "1/1 [==============================] - ETA: 0s - loss: 141.8365 - accuracy: 0.4615"
     ]
    },
    {
     "name": "stderr",
     "output_type": "stream",
     "text": [
      "\u001b[34m\u001b[1mwandb\u001b[0m: \u001b[33mWARNING\u001b[0m No validation_data set, pass a generator to the callback.\n",
      "/home/edward/.local/lib/python3.8/site-packages/keras/src/engine/training.py:3000: UserWarning: You are saving your model as an HDF5 file via `model.save()`. This file format is considered legacy. We recommend using instead the native Keras format, e.g. `model.save('my_model.keras')`.\n",
      "  saving_api.save_model(\n"
     ]
    },
    {
     "name": "stdout",
     "output_type": "stream",
     "text": [
      "INFO:tensorflow:Assets written to: /mnt/c/Users/edwar/OneDrive - UTS/jupyter notebooks/49275/videoCopy/wandb/run-20240505_134147-ho82fud4/files/model-best/assets\n"
     ]
    },
    {
     "name": "stderr",
     "output_type": "stream",
     "text": [
      "INFO:tensorflow:Assets written to: /mnt/c/Users/edwar/OneDrive - UTS/jupyter notebooks/49275/videoCopy/wandb/run-20240505_134147-ho82fud4/files/model-best/assets\n",
      "\u001b[34m\u001b[1mwandb\u001b[0m: Adding directory to artifact (/mnt/c/Users/edwar/OneDrive - UTS/jupyter notebooks/49275/videoCopy/wandb/run-20240505_134147-ho82fud4/files/model-best)... Done. 0.0s\n"
     ]
    },
    {
     "name": "stdout",
     "output_type": "stream",
     "text": [
      "1/1 [==============================] - 1s 857ms/step - loss: 141.8365 - accuracy: 0.4615 - val_loss: 76.0256 - val_accuracy: 0.6667\n",
      "Epoch 5/50\n",
      "1/1 [==============================] - ETA: 0s - loss: 132.5438 - accuracy: 0.4615"
     ]
    },
    {
     "name": "stderr",
     "output_type": "stream",
     "text": [
      "\u001b[34m\u001b[1mwandb\u001b[0m: \u001b[33mWARNING\u001b[0m No validation_data set, pass a generator to the callback.\n",
      "/home/edward/.local/lib/python3.8/site-packages/keras/src/engine/training.py:3000: UserWarning: You are saving your model as an HDF5 file via `model.save()`. This file format is considered legacy. We recommend using instead the native Keras format, e.g. `model.save('my_model.keras')`.\n",
      "  saving_api.save_model(\n"
     ]
    },
    {
     "name": "stdout",
     "output_type": "stream",
     "text": [
      "INFO:tensorflow:Assets written to: /mnt/c/Users/edwar/OneDrive - UTS/jupyter notebooks/49275/videoCopy/wandb/run-20240505_134147-ho82fud4/files/model-best/assets\n"
     ]
    },
    {
     "name": "stderr",
     "output_type": "stream",
     "text": [
      "INFO:tensorflow:Assets written to: /mnt/c/Users/edwar/OneDrive - UTS/jupyter notebooks/49275/videoCopy/wandb/run-20240505_134147-ho82fud4/files/model-best/assets\n",
      "\u001b[34m\u001b[1mwandb\u001b[0m: Adding directory to artifact (/mnt/c/Users/edwar/OneDrive - UTS/jupyter notebooks/49275/videoCopy/wandb/run-20240505_134147-ho82fud4/files/model-best)... Done. 0.0s\n"
     ]
    },
    {
     "name": "stdout",
     "output_type": "stream",
     "text": [
      "1/1 [==============================] - 1s 827ms/step - loss: 132.5438 - accuracy: 0.4615 - val_loss: 70.3757 - val_accuracy: 0.6667\n",
      "Epoch 6/50\n",
      "1/1 [==============================] - ETA: 0s - loss: 123.2514 - accuracy: 0.4615"
     ]
    },
    {
     "name": "stderr",
     "output_type": "stream",
     "text": [
      "\u001b[34m\u001b[1mwandb\u001b[0m: \u001b[33mWARNING\u001b[0m No validation_data set, pass a generator to the callback.\n",
      "/home/edward/.local/lib/python3.8/site-packages/keras/src/engine/training.py:3000: UserWarning: You are saving your model as an HDF5 file via `model.save()`. This file format is considered legacy. We recommend using instead the native Keras format, e.g. `model.save('my_model.keras')`.\n",
      "  saving_api.save_model(\n"
     ]
    },
    {
     "name": "stdout",
     "output_type": "stream",
     "text": [
      "INFO:tensorflow:Assets written to: /mnt/c/Users/edwar/OneDrive - UTS/jupyter notebooks/49275/videoCopy/wandb/run-20240505_134147-ho82fud4/files/model-best/assets\n"
     ]
    },
    {
     "name": "stderr",
     "output_type": "stream",
     "text": [
      "INFO:tensorflow:Assets written to: /mnt/c/Users/edwar/OneDrive - UTS/jupyter notebooks/49275/videoCopy/wandb/run-20240505_134147-ho82fud4/files/model-best/assets\n",
      "\u001b[34m\u001b[1mwandb\u001b[0m: Adding directory to artifact (/mnt/c/Users/edwar/OneDrive - UTS/jupyter notebooks/49275/videoCopy/wandb/run-20240505_134147-ho82fud4/files/model-best)... Done. 0.0s\n"
     ]
    },
    {
     "name": "stdout",
     "output_type": "stream",
     "text": [
      "1/1 [==============================] - 1s 835ms/step - loss: 123.2514 - accuracy: 0.4615 - val_loss: 64.7258 - val_accuracy: 0.6667\n",
      "Epoch 7/50\n",
      "1/1 [==============================] - ETA: 0s - loss: 113.9588 - accuracy: 0.4615"
     ]
    },
    {
     "name": "stderr",
     "output_type": "stream",
     "text": [
      "\u001b[34m\u001b[1mwandb\u001b[0m: \u001b[33mWARNING\u001b[0m No validation_data set, pass a generator to the callback.\n",
      "/home/edward/.local/lib/python3.8/site-packages/keras/src/engine/training.py:3000: UserWarning: You are saving your model as an HDF5 file via `model.save()`. This file format is considered legacy. We recommend using instead the native Keras format, e.g. `model.save('my_model.keras')`.\n",
      "  saving_api.save_model(\n"
     ]
    },
    {
     "name": "stdout",
     "output_type": "stream",
     "text": [
      "INFO:tensorflow:Assets written to: /mnt/c/Users/edwar/OneDrive - UTS/jupyter notebooks/49275/videoCopy/wandb/run-20240505_134147-ho82fud4/files/model-best/assets\n"
     ]
    },
    {
     "name": "stderr",
     "output_type": "stream",
     "text": [
      "INFO:tensorflow:Assets written to: /mnt/c/Users/edwar/OneDrive - UTS/jupyter notebooks/49275/videoCopy/wandb/run-20240505_134147-ho82fud4/files/model-best/assets\n",
      "\u001b[34m\u001b[1mwandb\u001b[0m: Adding directory to artifact (/mnt/c/Users/edwar/OneDrive - UTS/jupyter notebooks/49275/videoCopy/wandb/run-20240505_134147-ho82fud4/files/model-best)... Done. 0.0s\n"
     ]
    },
    {
     "name": "stdout",
     "output_type": "stream",
     "text": [
      "1/1 [==============================] - 1s 1s/step - loss: 113.9588 - accuracy: 0.4615 - val_loss: 59.0758 - val_accuracy: 0.6667\n",
      "Epoch 8/50\n",
      "1/1 [==============================] - ETA: 0s - loss: 104.6661 - accuracy: 0.4615"
     ]
    },
    {
     "name": "stderr",
     "output_type": "stream",
     "text": [
      "\u001b[34m\u001b[1mwandb\u001b[0m: \u001b[33mWARNING\u001b[0m No validation_data set, pass a generator to the callback.\n",
      "/home/edward/.local/lib/python3.8/site-packages/keras/src/engine/training.py:3000: UserWarning: You are saving your model as an HDF5 file via `model.save()`. This file format is considered legacy. We recommend using instead the native Keras format, e.g. `model.save('my_model.keras')`.\n",
      "  saving_api.save_model(\n"
     ]
    },
    {
     "name": "stdout",
     "output_type": "stream",
     "text": [
      "INFO:tensorflow:Assets written to: /mnt/c/Users/edwar/OneDrive - UTS/jupyter notebooks/49275/videoCopy/wandb/run-20240505_134147-ho82fud4/files/model-best/assets\n"
     ]
    },
    {
     "name": "stderr",
     "output_type": "stream",
     "text": [
      "INFO:tensorflow:Assets written to: /mnt/c/Users/edwar/OneDrive - UTS/jupyter notebooks/49275/videoCopy/wandb/run-20240505_134147-ho82fud4/files/model-best/assets\n",
      "\u001b[34m\u001b[1mwandb\u001b[0m: Adding directory to artifact (/mnt/c/Users/edwar/OneDrive - UTS/jupyter notebooks/49275/videoCopy/wandb/run-20240505_134147-ho82fud4/files/model-best)... Done. 0.0s\n"
     ]
    },
    {
     "name": "stdout",
     "output_type": "stream",
     "text": [
      "1/1 [==============================] - 1s 805ms/step - loss: 104.6661 - accuracy: 0.4615 - val_loss: 53.4259 - val_accuracy: 0.6667\n",
      "Epoch 9/50\n",
      "1/1 [==============================] - ETA: 0s - loss: 95.3735 - accuracy: 0.4615"
     ]
    },
    {
     "name": "stderr",
     "output_type": "stream",
     "text": [
      "\u001b[34m\u001b[1mwandb\u001b[0m: \u001b[33mWARNING\u001b[0m No validation_data set, pass a generator to the callback.\n",
      "/home/edward/.local/lib/python3.8/site-packages/keras/src/engine/training.py:3000: UserWarning: You are saving your model as an HDF5 file via `model.save()`. This file format is considered legacy. We recommend using instead the native Keras format, e.g. `model.save('my_model.keras')`.\n",
      "  saving_api.save_model(\n"
     ]
    },
    {
     "name": "stdout",
     "output_type": "stream",
     "text": [
      "INFO:tensorflow:Assets written to: /mnt/c/Users/edwar/OneDrive - UTS/jupyter notebooks/49275/videoCopy/wandb/run-20240505_134147-ho82fud4/files/model-best/assets\n"
     ]
    },
    {
     "name": "stderr",
     "output_type": "stream",
     "text": [
      "INFO:tensorflow:Assets written to: /mnt/c/Users/edwar/OneDrive - UTS/jupyter notebooks/49275/videoCopy/wandb/run-20240505_134147-ho82fud4/files/model-best/assets\n",
      "\u001b[34m\u001b[1mwandb\u001b[0m: Adding directory to artifact (/mnt/c/Users/edwar/OneDrive - UTS/jupyter notebooks/49275/videoCopy/wandb/run-20240505_134147-ho82fud4/files/model-best)... Done. 0.0s\n"
     ]
    },
    {
     "name": "stdout",
     "output_type": "stream",
     "text": [
      "1/1 [==============================] - 1s 788ms/step - loss: 95.3735 - accuracy: 0.4615 - val_loss: 47.7759 - val_accuracy: 0.6667\n",
      "Epoch 10/50\n",
      "1/1 [==============================] - ETA: 0s - loss: 86.0810 - accuracy: 0.4615"
     ]
    },
    {
     "name": "stderr",
     "output_type": "stream",
     "text": [
      "\u001b[34m\u001b[1mwandb\u001b[0m: \u001b[33mWARNING\u001b[0m No validation_data set, pass a generator to the callback.\n",
      "/home/edward/.local/lib/python3.8/site-packages/keras/src/engine/training.py:3000: UserWarning: You are saving your model as an HDF5 file via `model.save()`. This file format is considered legacy. We recommend using instead the native Keras format, e.g. `model.save('my_model.keras')`.\n",
      "  saving_api.save_model(\n"
     ]
    },
    {
     "name": "stdout",
     "output_type": "stream",
     "text": [
      "INFO:tensorflow:Assets written to: /mnt/c/Users/edwar/OneDrive - UTS/jupyter notebooks/49275/videoCopy/wandb/run-20240505_134147-ho82fud4/files/model-best/assets\n"
     ]
    },
    {
     "name": "stderr",
     "output_type": "stream",
     "text": [
      "INFO:tensorflow:Assets written to: /mnt/c/Users/edwar/OneDrive - UTS/jupyter notebooks/49275/videoCopy/wandb/run-20240505_134147-ho82fud4/files/model-best/assets\n",
      "\u001b[34m\u001b[1mwandb\u001b[0m: Adding directory to artifact (/mnt/c/Users/edwar/OneDrive - UTS/jupyter notebooks/49275/videoCopy/wandb/run-20240505_134147-ho82fud4/files/model-best)... Done. 0.0s\n"
     ]
    },
    {
     "name": "stdout",
     "output_type": "stream",
     "text": [
      "1/1 [==============================] - 1s 786ms/step - loss: 86.0810 - accuracy: 0.4615 - val_loss: 42.1260 - val_accuracy: 0.6667\n",
      "Epoch 11/50\n",
      "1/1 [==============================] - ETA: 0s - loss: 76.7884 - accuracy: 0.4615"
     ]
    },
    {
     "name": "stderr",
     "output_type": "stream",
     "text": [
      "\u001b[34m\u001b[1mwandb\u001b[0m: \u001b[33mWARNING\u001b[0m No validation_data set, pass a generator to the callback.\n",
      "/home/edward/.local/lib/python3.8/site-packages/keras/src/engine/training.py:3000: UserWarning: You are saving your model as an HDF5 file via `model.save()`. This file format is considered legacy. We recommend using instead the native Keras format, e.g. `model.save('my_model.keras')`.\n",
      "  saving_api.save_model(\n"
     ]
    },
    {
     "name": "stdout",
     "output_type": "stream",
     "text": [
      "INFO:tensorflow:Assets written to: /mnt/c/Users/edwar/OneDrive - UTS/jupyter notebooks/49275/videoCopy/wandb/run-20240505_134147-ho82fud4/files/model-best/assets\n"
     ]
    },
    {
     "name": "stderr",
     "output_type": "stream",
     "text": [
      "INFO:tensorflow:Assets written to: /mnt/c/Users/edwar/OneDrive - UTS/jupyter notebooks/49275/videoCopy/wandb/run-20240505_134147-ho82fud4/files/model-best/assets\n",
      "\u001b[34m\u001b[1mwandb\u001b[0m: Adding directory to artifact (/mnt/c/Users/edwar/OneDrive - UTS/jupyter notebooks/49275/videoCopy/wandb/run-20240505_134147-ho82fud4/files/model-best)... Done. 0.0s\n"
     ]
    },
    {
     "name": "stdout",
     "output_type": "stream",
     "text": [
      "1/1 [==============================] - 1s 832ms/step - loss: 76.7884 - accuracy: 0.4615 - val_loss: 36.4761 - val_accuracy: 0.6667\n",
      "Epoch 12/50\n",
      "1/1 [==============================] - ETA: 0s - loss: 67.4957 - accuracy: 0.4615"
     ]
    },
    {
     "name": "stderr",
     "output_type": "stream",
     "text": [
      "\u001b[34m\u001b[1mwandb\u001b[0m: \u001b[33mWARNING\u001b[0m No validation_data set, pass a generator to the callback.\n",
      "/home/edward/.local/lib/python3.8/site-packages/keras/src/engine/training.py:3000: UserWarning: You are saving your model as an HDF5 file via `model.save()`. This file format is considered legacy. We recommend using instead the native Keras format, e.g. `model.save('my_model.keras')`.\n",
      "  saving_api.save_model(\n"
     ]
    },
    {
     "name": "stdout",
     "output_type": "stream",
     "text": [
      "INFO:tensorflow:Assets written to: /mnt/c/Users/edwar/OneDrive - UTS/jupyter notebooks/49275/videoCopy/wandb/run-20240505_134147-ho82fud4/files/model-best/assets\n"
     ]
    },
    {
     "name": "stderr",
     "output_type": "stream",
     "text": [
      "INFO:tensorflow:Assets written to: /mnt/c/Users/edwar/OneDrive - UTS/jupyter notebooks/49275/videoCopy/wandb/run-20240505_134147-ho82fud4/files/model-best/assets\n",
      "\u001b[34m\u001b[1mwandb\u001b[0m: Adding directory to artifact (/mnt/c/Users/edwar/OneDrive - UTS/jupyter notebooks/49275/videoCopy/wandb/run-20240505_134147-ho82fud4/files/model-best)... Done. 0.0s\n"
     ]
    },
    {
     "name": "stdout",
     "output_type": "stream",
     "text": [
      "1/1 [==============================] - 1s 770ms/step - loss: 67.4957 - accuracy: 0.4615 - val_loss: 30.8261 - val_accuracy: 0.6667\n",
      "Epoch 13/50\n",
      "1/1 [==============================] - ETA: 0s - loss: 58.2032 - accuracy: 0.4615"
     ]
    },
    {
     "name": "stderr",
     "output_type": "stream",
     "text": [
      "\u001b[34m\u001b[1mwandb\u001b[0m: \u001b[33mWARNING\u001b[0m No validation_data set, pass a generator to the callback.\n",
      "/home/edward/.local/lib/python3.8/site-packages/keras/src/engine/training.py:3000: UserWarning: You are saving your model as an HDF5 file via `model.save()`. This file format is considered legacy. We recommend using instead the native Keras format, e.g. `model.save('my_model.keras')`.\n",
      "  saving_api.save_model(\n"
     ]
    },
    {
     "name": "stdout",
     "output_type": "stream",
     "text": [
      "INFO:tensorflow:Assets written to: /mnt/c/Users/edwar/OneDrive - UTS/jupyter notebooks/49275/videoCopy/wandb/run-20240505_134147-ho82fud4/files/model-best/assets\n"
     ]
    },
    {
     "name": "stderr",
     "output_type": "stream",
     "text": [
      "INFO:tensorflow:Assets written to: /mnt/c/Users/edwar/OneDrive - UTS/jupyter notebooks/49275/videoCopy/wandb/run-20240505_134147-ho82fud4/files/model-best/assets\n",
      "\u001b[34m\u001b[1mwandb\u001b[0m: Adding directory to artifact (/mnt/c/Users/edwar/OneDrive - UTS/jupyter notebooks/49275/videoCopy/wandb/run-20240505_134147-ho82fud4/files/model-best)... Done. 0.0s\n"
     ]
    },
    {
     "name": "stdout",
     "output_type": "stream",
     "text": [
      "1/1 [==============================] - 1s 832ms/step - loss: 58.2032 - accuracy: 0.4615 - val_loss: 25.1762 - val_accuracy: 0.6667\n",
      "Epoch 14/50\n",
      "1/1 [==============================] - ETA: 0s - loss: 48.9106 - accuracy: 0.4615"
     ]
    },
    {
     "name": "stderr",
     "output_type": "stream",
     "text": [
      "\u001b[34m\u001b[1mwandb\u001b[0m: \u001b[33mWARNING\u001b[0m No validation_data set, pass a generator to the callback.\n",
      "/home/edward/.local/lib/python3.8/site-packages/keras/src/engine/training.py:3000: UserWarning: You are saving your model as an HDF5 file via `model.save()`. This file format is considered legacy. We recommend using instead the native Keras format, e.g. `model.save('my_model.keras')`.\n",
      "  saving_api.save_model(\n"
     ]
    },
    {
     "name": "stdout",
     "output_type": "stream",
     "text": [
      "INFO:tensorflow:Assets written to: /mnt/c/Users/edwar/OneDrive - UTS/jupyter notebooks/49275/videoCopy/wandb/run-20240505_134147-ho82fud4/files/model-best/assets\n"
     ]
    },
    {
     "name": "stderr",
     "output_type": "stream",
     "text": [
      "INFO:tensorflow:Assets written to: /mnt/c/Users/edwar/OneDrive - UTS/jupyter notebooks/49275/videoCopy/wandb/run-20240505_134147-ho82fud4/files/model-best/assets\n",
      "\u001b[34m\u001b[1mwandb\u001b[0m: Adding directory to artifact (/mnt/c/Users/edwar/OneDrive - UTS/jupyter notebooks/49275/videoCopy/wandb/run-20240505_134147-ho82fud4/files/model-best)... Done. 0.0s\n"
     ]
    },
    {
     "name": "stdout",
     "output_type": "stream",
     "text": [
      "1/1 [==============================] - 1s 796ms/step - loss: 48.9106 - accuracy: 0.4615 - val_loss: 19.5262 - val_accuracy: 0.6667\n",
      "Epoch 15/50\n",
      "1/1 [==============================] - ETA: 0s - loss: 39.6180 - accuracy: 0.4615"
     ]
    },
    {
     "name": "stderr",
     "output_type": "stream",
     "text": [
      "\u001b[34m\u001b[1mwandb\u001b[0m: \u001b[33mWARNING\u001b[0m No validation_data set, pass a generator to the callback.\n",
      "/home/edward/.local/lib/python3.8/site-packages/keras/src/engine/training.py:3000: UserWarning: You are saving your model as an HDF5 file via `model.save()`. This file format is considered legacy. We recommend using instead the native Keras format, e.g. `model.save('my_model.keras')`.\n",
      "  saving_api.save_model(\n"
     ]
    },
    {
     "name": "stdout",
     "output_type": "stream",
     "text": [
      "INFO:tensorflow:Assets written to: /mnt/c/Users/edwar/OneDrive - UTS/jupyter notebooks/49275/videoCopy/wandb/run-20240505_134147-ho82fud4/files/model-best/assets\n"
     ]
    },
    {
     "name": "stderr",
     "output_type": "stream",
     "text": [
      "INFO:tensorflow:Assets written to: /mnt/c/Users/edwar/OneDrive - UTS/jupyter notebooks/49275/videoCopy/wandb/run-20240505_134147-ho82fud4/files/model-best/assets\n",
      "\u001b[34m\u001b[1mwandb\u001b[0m: Adding directory to artifact (/mnt/c/Users/edwar/OneDrive - UTS/jupyter notebooks/49275/videoCopy/wandb/run-20240505_134147-ho82fud4/files/model-best)... Done. 0.0s\n"
     ]
    },
    {
     "name": "stdout",
     "output_type": "stream",
     "text": [
      "1/1 [==============================] - 1s 877ms/step - loss: 39.6180 - accuracy: 0.4615 - val_loss: 13.8763 - val_accuracy: 0.6667\n",
      "Epoch 16/50\n",
      "1/1 [==============================] - ETA: 0s - loss: 30.3254 - accuracy: 0.4615"
     ]
    },
    {
     "name": "stderr",
     "output_type": "stream",
     "text": [
      "\u001b[34m\u001b[1mwandb\u001b[0m: \u001b[33mWARNING\u001b[0m No validation_data set, pass a generator to the callback.\n",
      "/home/edward/.local/lib/python3.8/site-packages/keras/src/engine/training.py:3000: UserWarning: You are saving your model as an HDF5 file via `model.save()`. This file format is considered legacy. We recommend using instead the native Keras format, e.g. `model.save('my_model.keras')`.\n",
      "  saving_api.save_model(\n"
     ]
    },
    {
     "name": "stdout",
     "output_type": "stream",
     "text": [
      "INFO:tensorflow:Assets written to: /mnt/c/Users/edwar/OneDrive - UTS/jupyter notebooks/49275/videoCopy/wandb/run-20240505_134147-ho82fud4/files/model-best/assets\n"
     ]
    },
    {
     "name": "stderr",
     "output_type": "stream",
     "text": [
      "INFO:tensorflow:Assets written to: /mnt/c/Users/edwar/OneDrive - UTS/jupyter notebooks/49275/videoCopy/wandb/run-20240505_134147-ho82fud4/files/model-best/assets\n",
      "\u001b[34m\u001b[1mwandb\u001b[0m: Adding directory to artifact (/mnt/c/Users/edwar/OneDrive - UTS/jupyter notebooks/49275/videoCopy/wandb/run-20240505_134147-ho82fud4/files/model-best)... Done. 0.0s\n"
     ]
    },
    {
     "name": "stdout",
     "output_type": "stream",
     "text": [
      "1/1 [==============================] - 1s 798ms/step - loss: 30.3254 - accuracy: 0.4615 - val_loss: 8.2265 - val_accuracy: 0.6667\n",
      "Epoch 17/50\n",
      "1/1 [==============================] - ETA: 0s - loss: 21.0329 - accuracy: 0.4615"
     ]
    },
    {
     "name": "stderr",
     "output_type": "stream",
     "text": [
      "\u001b[34m\u001b[1mwandb\u001b[0m: \u001b[33mWARNING\u001b[0m No validation_data set, pass a generator to the callback.\n",
      "/home/edward/.local/lib/python3.8/site-packages/keras/src/engine/training.py:3000: UserWarning: You are saving your model as an HDF5 file via `model.save()`. This file format is considered legacy. We recommend using instead the native Keras format, e.g. `model.save('my_model.keras')`.\n",
      "  saving_api.save_model(\n"
     ]
    },
    {
     "name": "stdout",
     "output_type": "stream",
     "text": [
      "INFO:tensorflow:Assets written to: /mnt/c/Users/edwar/OneDrive - UTS/jupyter notebooks/49275/videoCopy/wandb/run-20240505_134147-ho82fud4/files/model-best/assets\n"
     ]
    },
    {
     "name": "stderr",
     "output_type": "stream",
     "text": [
      "INFO:tensorflow:Assets written to: /mnt/c/Users/edwar/OneDrive - UTS/jupyter notebooks/49275/videoCopy/wandb/run-20240505_134147-ho82fud4/files/model-best/assets\n",
      "\u001b[34m\u001b[1mwandb\u001b[0m: Adding directory to artifact (/mnt/c/Users/edwar/OneDrive - UTS/jupyter notebooks/49275/videoCopy/wandb/run-20240505_134147-ho82fud4/files/model-best)... Done. 0.0s\n"
     ]
    },
    {
     "name": "stdout",
     "output_type": "stream",
     "text": [
      "1/1 [==============================] - 1s 787ms/step - loss: 21.0329 - accuracy: 0.4615 - val_loss: 3.5609 - val_accuracy: 0.7778\n",
      "Epoch 18/50\n",
      "1/1 [==============================] - ETA: 0s - loss: 12.4218 - accuracy: 0.5385"
     ]
    },
    {
     "name": "stderr",
     "output_type": "stream",
     "text": [
      "\u001b[34m\u001b[1mwandb\u001b[0m: \u001b[33mWARNING\u001b[0m No validation_data set, pass a generator to the callback.\n",
      "/home/edward/.local/lib/python3.8/site-packages/keras/src/engine/training.py:3000: UserWarning: You are saving your model as an HDF5 file via `model.save()`. This file format is considered legacy. We recommend using instead the native Keras format, e.g. `model.save('my_model.keras')`.\n",
      "  saving_api.save_model(\n"
     ]
    },
    {
     "name": "stdout",
     "output_type": "stream",
     "text": [
      "INFO:tensorflow:Assets written to: /mnt/c/Users/edwar/OneDrive - UTS/jupyter notebooks/49275/videoCopy/wandb/run-20240505_134147-ho82fud4/files/model-best/assets\n"
     ]
    },
    {
     "name": "stderr",
     "output_type": "stream",
     "text": [
      "INFO:tensorflow:Assets written to: /mnt/c/Users/edwar/OneDrive - UTS/jupyter notebooks/49275/videoCopy/wandb/run-20240505_134147-ho82fud4/files/model-best/assets\n",
      "\u001b[34m\u001b[1mwandb\u001b[0m: Adding directory to artifact (/mnt/c/Users/edwar/OneDrive - UTS/jupyter notebooks/49275/videoCopy/wandb/run-20240505_134147-ho82fud4/files/model-best)... Done. 0.0s\n"
     ]
    },
    {
     "name": "stdout",
     "output_type": "stream",
     "text": [
      "1/1 [==============================] - 1s 791ms/step - loss: 12.4218 - accuracy: 0.5385 - val_loss: 2.3923 - val_accuracy: 0.7778\n",
      "Epoch 19/50\n",
      "1/1 [==============================] - ETA: 0s - loss: 6.2820 - accuracy: 0.5385"
     ]
    },
    {
     "name": "stderr",
     "output_type": "stream",
     "text": [
      "\u001b[34m\u001b[1mwandb\u001b[0m: \u001b[33mWARNING\u001b[0m No validation_data set, pass a generator to the callback.\n"
     ]
    },
    {
     "name": "stdout",
     "output_type": "stream",
     "text": [
      "1/1 [==============================] - 0s 38ms/step - loss: 6.2820 - accuracy: 0.5385 - val_loss: 6.5459 - val_accuracy: 0.6667\n",
      "Epoch 20/50\n",
      "1/1 [==============================] - ETA: 0s - loss: 5.5574 - accuracy: 0.4615"
     ]
    },
    {
     "name": "stderr",
     "output_type": "stream",
     "text": [
      "\u001b[34m\u001b[1mwandb\u001b[0m: \u001b[33mWARNING\u001b[0m No validation_data set, pass a generator to the callback.\n"
     ]
    },
    {
     "name": "stdout",
     "output_type": "stream",
     "text": [
      "1/1 [==============================] - 0s 38ms/step - loss: 5.5574 - accuracy: 0.4615 - val_loss: 11.3427 - val_accuracy: 0.6667\n",
      "Epoch 21/50\n",
      "1/1 [==============================] - ETA: 0s - loss: 10.1880 - accuracy: 0.6154"
     ]
    },
    {
     "name": "stderr",
     "output_type": "stream",
     "text": [
      "\u001b[34m\u001b[1mwandb\u001b[0m: \u001b[33mWARNING\u001b[0m No validation_data set, pass a generator to the callback.\n"
     ]
    },
    {
     "name": "stdout",
     "output_type": "stream",
     "text": [
      "1/1 [==============================] - 0s 37ms/step - loss: 10.1880 - accuracy: 0.6154 - val_loss: 15.5870 - val_accuracy: 0.4444\n",
      "Epoch 22/50\n",
      "1/1 [==============================] - ETA: 0s - loss: 14.4467 - accuracy: 0.6154"
     ]
    },
    {
     "name": "stderr",
     "output_type": "stream",
     "text": [
      "\u001b[34m\u001b[1mwandb\u001b[0m: \u001b[33mWARNING\u001b[0m No validation_data set, pass a generator to the callback.\n"
     ]
    },
    {
     "name": "stdout",
     "output_type": "stream",
     "text": [
      "1/1 [==============================] - 0s 35ms/step - loss: 14.4467 - accuracy: 0.6154 - val_loss: 20.6417 - val_accuracy: 0.3333\n",
      "Epoch 23/50\n",
      "1/1 [==============================] - ETA: 0s - loss: 17.8410 - accuracy: 0.5385"
     ]
    },
    {
     "name": "stderr",
     "output_type": "stream",
     "text": [
      "\u001b[34m\u001b[1mwandb\u001b[0m: \u001b[33mWARNING\u001b[0m No validation_data set, pass a generator to the callback.\n"
     ]
    },
    {
     "name": "stdout",
     "output_type": "stream",
     "text": [
      "1/1 [==============================] - 0s 37ms/step - loss: 17.8410 - accuracy: 0.5385 - val_loss: 24.1779 - val_accuracy: 0.3333\n",
      "Epoch 24/50\n",
      "1/1 [==============================] - ETA: 0s - loss: 20.1556 - accuracy: 0.5385"
     ]
    },
    {
     "name": "stderr",
     "output_type": "stream",
     "text": [
      "\u001b[34m\u001b[1mwandb\u001b[0m: \u001b[33mWARNING\u001b[0m No validation_data set, pass a generator to the callback.\n"
     ]
    },
    {
     "name": "stdout",
     "output_type": "stream",
     "text": [
      "1/1 [==============================] - 0s 35ms/step - loss: 20.1556 - accuracy: 0.5385 - val_loss: 25.9423 - val_accuracy: 0.3333\n",
      "Epoch 25/50\n",
      "1/1 [==============================] - ETA: 0s - loss: 21.2314 - accuracy: 0.5385"
     ]
    },
    {
     "name": "stderr",
     "output_type": "stream",
     "text": [
      "\u001b[34m\u001b[1mwandb\u001b[0m: \u001b[33mWARNING\u001b[0m No validation_data set, pass a generator to the callback.\n"
     ]
    },
    {
     "name": "stdout",
     "output_type": "stream",
     "text": [
      "1/1 [==============================] - 0s 36ms/step - loss: 21.2314 - accuracy: 0.5385 - val_loss: 26.1471 - val_accuracy: 0.3333\n",
      "Epoch 26/50\n",
      "1/1 [==============================] - ETA: 0s - loss: 21.2183 - accuracy: 0.5385"
     ]
    },
    {
     "name": "stderr",
     "output_type": "stream",
     "text": [
      "\u001b[34m\u001b[1mwandb\u001b[0m: \u001b[33mWARNING\u001b[0m No validation_data set, pass a generator to the callback.\n"
     ]
    },
    {
     "name": "stdout",
     "output_type": "stream",
     "text": [
      "1/1 [==============================] - 0s 38ms/step - loss: 21.2183 - accuracy: 0.5385 - val_loss: 24.9760 - val_accuracy: 0.3333\n",
      "Epoch 27/50\n",
      "1/1 [==============================] - ETA: 0s - loss: 20.2461 - accuracy: 0.5385"
     ]
    },
    {
     "name": "stderr",
     "output_type": "stream",
     "text": [
      "\u001b[34m\u001b[1mwandb\u001b[0m: \u001b[33mWARNING\u001b[0m No validation_data set, pass a generator to the callback.\n"
     ]
    },
    {
     "name": "stdout",
     "output_type": "stream",
     "text": [
      "1/1 [==============================] - 0s 35ms/step - loss: 20.2461 - accuracy: 0.5385 - val_loss: 22.5884 - val_accuracy: 0.3333\n",
      "Epoch 28/50\n",
      "1/1 [==============================] - ETA: 0s - loss: 18.4264 - accuracy: 0.5385"
     ]
    },
    {
     "name": "stderr",
     "output_type": "stream",
     "text": [
      "\u001b[34m\u001b[1mwandb\u001b[0m: \u001b[33mWARNING\u001b[0m No validation_data set, pass a generator to the callback.\n"
     ]
    },
    {
     "name": "stdout",
     "output_type": "stream",
     "text": [
      "1/1 [==============================] - 0s 37ms/step - loss: 18.4264 - accuracy: 0.5385 - val_loss: 19.1383 - val_accuracy: 0.3333\n",
      "Epoch 29/50\n",
      "1/1 [==============================] - ETA: 0s - loss: 15.8675 - accuracy: 0.5385"
     ]
    },
    {
     "name": "stderr",
     "output_type": "stream",
     "text": [
      "\u001b[34m\u001b[1mwandb\u001b[0m: \u001b[33mWARNING\u001b[0m No validation_data set, pass a generator to the callback.\n"
     ]
    },
    {
     "name": "stdout",
     "output_type": "stream",
     "text": [
      "1/1 [==============================] - 0s 34ms/step - loss: 15.8675 - accuracy: 0.5385 - val_loss: 15.2521 - val_accuracy: 0.4444\n",
      "Epoch 30/50\n",
      "1/1 [==============================] - ETA: 0s - loss: 13.0034 - accuracy: 0.6154"
     ]
    },
    {
     "name": "stderr",
     "output_type": "stream",
     "text": [
      "\u001b[34m\u001b[1mwandb\u001b[0m: \u001b[33mWARNING\u001b[0m No validation_data set, pass a generator to the callback.\n"
     ]
    },
    {
     "name": "stdout",
     "output_type": "stream",
     "text": [
      "1/1 [==============================] - 0s 33ms/step - loss: 13.0034 - accuracy: 0.6154 - val_loss: 11.4745 - val_accuracy: 0.6667\n",
      "Epoch 31/50\n",
      "1/1 [==============================] - ETA: 0s - loss: 9.9054 - accuracy: 0.6154"
     ]
    },
    {
     "name": "stderr",
     "output_type": "stream",
     "text": [
      "\u001b[34m\u001b[1mwandb\u001b[0m: \u001b[33mWARNING\u001b[0m No validation_data set, pass a generator to the callback.\n"
     ]
    },
    {
     "name": "stdout",
     "output_type": "stream",
     "text": [
      "1/1 [==============================] - 0s 35ms/step - loss: 9.9054 - accuracy: 0.6154 - val_loss: 8.5387 - val_accuracy: 0.6667\n",
      "Epoch 32/50\n",
      "1/1 [==============================] - ETA: 0s - loss: 6.4631 - accuracy: 0.6154"
     ]
    },
    {
     "name": "stderr",
     "output_type": "stream",
     "text": [
      "\u001b[34m\u001b[1mwandb\u001b[0m: \u001b[33mWARNING\u001b[0m No validation_data set, pass a generator to the callback.\n"
     ]
    },
    {
     "name": "stdout",
     "output_type": "stream",
     "text": [
      "1/1 [==============================] - 0s 35ms/step - loss: 6.4631 - accuracy: 0.6154 - val_loss: 5.3709 - val_accuracy: 0.6667\n",
      "Epoch 33/50\n",
      "1/1 [==============================] - ETA: 0s - loss: 3.7185 - accuracy: 0.7692"
     ]
    },
    {
     "name": "stderr",
     "output_type": "stream",
     "text": [
      "\u001b[34m\u001b[1mwandb\u001b[0m: \u001b[33mWARNING\u001b[0m No validation_data set, pass a generator to the callback.\n",
      "/home/edward/.local/lib/python3.8/site-packages/keras/src/engine/training.py:3000: UserWarning: You are saving your model as an HDF5 file via `model.save()`. This file format is considered legacy. We recommend using instead the native Keras format, e.g. `model.save('my_model.keras')`.\n",
      "  saving_api.save_model(\n"
     ]
    },
    {
     "name": "stdout",
     "output_type": "stream",
     "text": [
      "INFO:tensorflow:Assets written to: /mnt/c/Users/edwar/OneDrive - UTS/jupyter notebooks/49275/videoCopy/wandb/run-20240505_134147-ho82fud4/files/model-best/assets\n"
     ]
    },
    {
     "name": "stderr",
     "output_type": "stream",
     "text": [
      "INFO:tensorflow:Assets written to: /mnt/c/Users/edwar/OneDrive - UTS/jupyter notebooks/49275/videoCopy/wandb/run-20240505_134147-ho82fud4/files/model-best/assets\n",
      "\u001b[34m\u001b[1mwandb\u001b[0m: Adding directory to artifact (/mnt/c/Users/edwar/OneDrive - UTS/jupyter notebooks/49275/videoCopy/wandb/run-20240505_134147-ho82fud4/files/model-best)... Done. 0.0s\n"
     ]
    },
    {
     "name": "stdout",
     "output_type": "stream",
     "text": [
      "1/1 [==============================] - 1s 780ms/step - loss: 3.7185 - accuracy: 0.7692 - val_loss: 2.3436 - val_accuracy: 0.7778\n",
      "Epoch 34/50\n",
      "1/1 [==============================] - ETA: 0s - loss: 1.6234 - accuracy: 0.8462"
     ]
    },
    {
     "name": "stderr",
     "output_type": "stream",
     "text": [
      "\u001b[34m\u001b[1mwandb\u001b[0m: \u001b[33mWARNING\u001b[0m No validation_data set, pass a generator to the callback.\n",
      "/home/edward/.local/lib/python3.8/site-packages/keras/src/engine/training.py:3000: UserWarning: You are saving your model as an HDF5 file via `model.save()`. This file format is considered legacy. We recommend using instead the native Keras format, e.g. `model.save('my_model.keras')`.\n",
      "  saving_api.save_model(\n"
     ]
    },
    {
     "name": "stdout",
     "output_type": "stream",
     "text": [
      "INFO:tensorflow:Assets written to: /mnt/c/Users/edwar/OneDrive - UTS/jupyter notebooks/49275/videoCopy/wandb/run-20240505_134147-ho82fud4/files/model-best/assets\n"
     ]
    },
    {
     "name": "stderr",
     "output_type": "stream",
     "text": [
      "INFO:tensorflow:Assets written to: /mnt/c/Users/edwar/OneDrive - UTS/jupyter notebooks/49275/videoCopy/wandb/run-20240505_134147-ho82fud4/files/model-best/assets\n",
      "\u001b[34m\u001b[1mwandb\u001b[0m: Adding directory to artifact (/mnt/c/Users/edwar/OneDrive - UTS/jupyter notebooks/49275/videoCopy/wandb/run-20240505_134147-ho82fud4/files/model-best)... Done. 0.0s\n"
     ]
    },
    {
     "name": "stdout",
     "output_type": "stream",
     "text": [
      "1/1 [==============================] - 1s 812ms/step - loss: 1.6234 - accuracy: 0.8462 - val_loss: 0.7220 - val_accuracy: 0.8889\n",
      "Epoch 35/50\n",
      "1/1 [==============================] - ETA: 0s - loss: 0.7016 - accuracy: 0.7692"
     ]
    },
    {
     "name": "stderr",
     "output_type": "stream",
     "text": [
      "\u001b[34m\u001b[1mwandb\u001b[0m: \u001b[33mWARNING\u001b[0m No validation_data set, pass a generator to the callback.\n",
      "/home/edward/.local/lib/python3.8/site-packages/keras/src/engine/training.py:3000: UserWarning: You are saving your model as an HDF5 file via `model.save()`. This file format is considered legacy. We recommend using instead the native Keras format, e.g. `model.save('my_model.keras')`.\n",
      "  saving_api.save_model(\n"
     ]
    },
    {
     "name": "stdout",
     "output_type": "stream",
     "text": [
      "INFO:tensorflow:Assets written to: /mnt/c/Users/edwar/OneDrive - UTS/jupyter notebooks/49275/videoCopy/wandb/run-20240505_134147-ho82fud4/files/model-best/assets\n"
     ]
    },
    {
     "name": "stderr",
     "output_type": "stream",
     "text": [
      "INFO:tensorflow:Assets written to: /mnt/c/Users/edwar/OneDrive - UTS/jupyter notebooks/49275/videoCopy/wandb/run-20240505_134147-ho82fud4/files/model-best/assets\n",
      "\u001b[34m\u001b[1mwandb\u001b[0m: Adding directory to artifact (/mnt/c/Users/edwar/OneDrive - UTS/jupyter notebooks/49275/videoCopy/wandb/run-20240505_134147-ho82fud4/files/model-best)... Done. 0.0s\n"
     ]
    },
    {
     "name": "stdout",
     "output_type": "stream",
     "text": [
      "1/1 [==============================] - 1s 836ms/step - loss: 0.7016 - accuracy: 0.7692 - val_loss: 0.5686 - val_accuracy: 0.8889\n",
      "Epoch 36/50\n",
      "1/1 [==============================] - ETA: 0s - loss: 1.9493 - accuracy: 0.6154"
     ]
    },
    {
     "name": "stderr",
     "output_type": "stream",
     "text": [
      "\u001b[34m\u001b[1mwandb\u001b[0m: \u001b[33mWARNING\u001b[0m No validation_data set, pass a generator to the callback.\n"
     ]
    },
    {
     "name": "stdout",
     "output_type": "stream",
     "text": [
      "1/1 [==============================] - 0s 39ms/step - loss: 1.9493 - accuracy: 0.6154 - val_loss: 1.1348 - val_accuracy: 0.8889\n",
      "Epoch 37/50\n",
      "1/1 [==============================] - ETA: 0s - loss: 3.7373 - accuracy: 0.6154"
     ]
    },
    {
     "name": "stderr",
     "output_type": "stream",
     "text": [
      "\u001b[34m\u001b[1mwandb\u001b[0m: \u001b[33mWARNING\u001b[0m No validation_data set, pass a generator to the callback.\n"
     ]
    },
    {
     "name": "stdout",
     "output_type": "stream",
     "text": [
      "1/1 [==============================] - 0s 34ms/step - loss: 3.7373 - accuracy: 0.6154 - val_loss: 1.5087 - val_accuracy: 0.8889\n",
      "Epoch 38/50\n",
      "1/1 [==============================] - ETA: 0s - loss: 4.7961 - accuracy: 0.6154"
     ]
    },
    {
     "name": "stderr",
     "output_type": "stream",
     "text": [
      "\u001b[34m\u001b[1mwandb\u001b[0m: \u001b[33mWARNING\u001b[0m No validation_data set, pass a generator to the callback.\n"
     ]
    },
    {
     "name": "stdout",
     "output_type": "stream",
     "text": [
      "1/1 [==============================] - 0s 39ms/step - loss: 4.7961 - accuracy: 0.6154 - val_loss: 1.7098 - val_accuracy: 0.8889\n",
      "Epoch 39/50\n",
      "1/1 [==============================] - ETA: 0s - loss: 5.1845 - accuracy: 0.6154"
     ]
    },
    {
     "name": "stderr",
     "output_type": "stream",
     "text": [
      "\u001b[34m\u001b[1mwandb\u001b[0m: \u001b[33mWARNING\u001b[0m No validation_data set, pass a generator to the callback.\n"
     ]
    },
    {
     "name": "stdout",
     "output_type": "stream",
     "text": [
      "1/1 [==============================] - 0s 39ms/step - loss: 5.1845 - accuracy: 0.6154 - val_loss: 1.6755 - val_accuracy: 0.8889\n",
      "Epoch 40/50\n",
      "1/1 [==============================] - ETA: 0s - loss: 4.8897 - accuracy: 0.6154"
     ]
    },
    {
     "name": "stderr",
     "output_type": "stream",
     "text": [
      "\u001b[34m\u001b[1mwandb\u001b[0m: \u001b[33mWARNING\u001b[0m No validation_data set, pass a generator to the callback.\n"
     ]
    },
    {
     "name": "stdout",
     "output_type": "stream",
     "text": [
      "1/1 [==============================] - 0s 39ms/step - loss: 4.8897 - accuracy: 0.6154 - val_loss: 1.4395 - val_accuracy: 0.8889\n",
      "Epoch 41/50\n",
      "1/1 [==============================] - ETA: 0s - loss: 3.9895 - accuracy: 0.6154"
     ]
    },
    {
     "name": "stderr",
     "output_type": "stream",
     "text": [
      "\u001b[34m\u001b[1mwandb\u001b[0m: \u001b[33mWARNING\u001b[0m No validation_data set, pass a generator to the callback.\n"
     ]
    },
    {
     "name": "stdout",
     "output_type": "stream",
     "text": [
      "1/1 [==============================] - 0s 38ms/step - loss: 3.9895 - accuracy: 0.6154 - val_loss: 1.0857 - val_accuracy: 0.8889\n",
      "Epoch 42/50\n",
      "1/1 [==============================] - ETA: 0s - loss: 2.6100 - accuracy: 0.6154"
     ]
    },
    {
     "name": "stderr",
     "output_type": "stream",
     "text": [
      "\u001b[34m\u001b[1mwandb\u001b[0m: \u001b[33mWARNING\u001b[0m No validation_data set, pass a generator to the callback.\n"
     ]
    },
    {
     "name": "stdout",
     "output_type": "stream",
     "text": [
      "1/1 [==============================] - 0s 39ms/step - loss: 2.6100 - accuracy: 0.6154 - val_loss: 0.6138 - val_accuracy: 0.8889\n",
      "Epoch 43/50\n",
      "1/1 [==============================] - ETA: 0s - loss: 0.8836 - accuracy: 0.6154"
     ]
    },
    {
     "name": "stderr",
     "output_type": "stream",
     "text": [
      "\u001b[34m\u001b[1mwandb\u001b[0m: \u001b[33mWARNING\u001b[0m No validation_data set, pass a generator to the callback.\n",
      "/home/edward/.local/lib/python3.8/site-packages/keras/src/engine/training.py:3000: UserWarning: You are saving your model as an HDF5 file via `model.save()`. This file format is considered legacy. We recommend using instead the native Keras format, e.g. `model.save('my_model.keras')`.\n",
      "  saving_api.save_model(\n"
     ]
    },
    {
     "name": "stdout",
     "output_type": "stream",
     "text": [
      "INFO:tensorflow:Assets written to: /mnt/c/Users/edwar/OneDrive - UTS/jupyter notebooks/49275/videoCopy/wandb/run-20240505_134147-ho82fud4/files/model-best/assets\n"
     ]
    },
    {
     "name": "stderr",
     "output_type": "stream",
     "text": [
      "INFO:tensorflow:Assets written to: /mnt/c/Users/edwar/OneDrive - UTS/jupyter notebooks/49275/videoCopy/wandb/run-20240505_134147-ho82fud4/files/model-best/assets\n",
      "\u001b[34m\u001b[1mwandb\u001b[0m: Adding directory to artifact (/mnt/c/Users/edwar/OneDrive - UTS/jupyter notebooks/49275/videoCopy/wandb/run-20240505_134147-ho82fud4/files/model-best)... Done. 0.0s\n"
     ]
    },
    {
     "name": "stdout",
     "output_type": "stream",
     "text": [
      "1/1 [==============================] - 1s 799ms/step - loss: 0.8836 - accuracy: 0.6154 - val_loss: 0.1059 - val_accuracy: 0.8889\n",
      "Epoch 44/50\n",
      "1/1 [==============================] - ETA: 0s - loss: 0.0771 - accuracy: 0.9231"
     ]
    },
    {
     "name": "stderr",
     "output_type": "stream",
     "text": [
      "\u001b[34m\u001b[1mwandb\u001b[0m: \u001b[33mWARNING\u001b[0m No validation_data set, pass a generator to the callback.\n",
      "/home/edward/.local/lib/python3.8/site-packages/keras/src/engine/training.py:3000: UserWarning: You are saving your model as an HDF5 file via `model.save()`. This file format is considered legacy. We recommend using instead the native Keras format, e.g. `model.save('my_model.keras')`.\n",
      "  saving_api.save_model(\n"
     ]
    },
    {
     "name": "stdout",
     "output_type": "stream",
     "text": [
      "INFO:tensorflow:Assets written to: /mnt/c/Users/edwar/OneDrive - UTS/jupyter notebooks/49275/videoCopy/wandb/run-20240505_134147-ho82fud4/files/model-best/assets\n"
     ]
    },
    {
     "name": "stderr",
     "output_type": "stream",
     "text": [
      "INFO:tensorflow:Assets written to: /mnt/c/Users/edwar/OneDrive - UTS/jupyter notebooks/49275/videoCopy/wandb/run-20240505_134147-ho82fud4/files/model-best/assets\n",
      "\u001b[34m\u001b[1mwandb\u001b[0m: Adding directory to artifact (/mnt/c/Users/edwar/OneDrive - UTS/jupyter notebooks/49275/videoCopy/wandb/run-20240505_134147-ho82fud4/files/model-best)... Done. 0.0s\n"
     ]
    },
    {
     "name": "stdout",
     "output_type": "stream",
     "text": [
      "1/1 [==============================] - 1s 898ms/step - loss: 0.0771 - accuracy: 0.9231 - val_loss: 0.0175 - val_accuracy: 1.0000\n",
      "Epoch 45/50\n",
      "1/1 [==============================] - ETA: 0s - loss: 0.0121 - accuracy: 1.0000"
     ]
    },
    {
     "name": "stderr",
     "output_type": "stream",
     "text": [
      "\u001b[34m\u001b[1mwandb\u001b[0m: \u001b[33mWARNING\u001b[0m No validation_data set, pass a generator to the callback.\n"
     ]
    },
    {
     "name": "stdout",
     "output_type": "stream",
     "text": [
      "1/1 [==============================] - 0s 37ms/step - loss: 0.0121 - accuracy: 1.0000 - val_loss: 0.2265 - val_accuracy: 0.8889\n",
      "Epoch 46/50\n",
      "1/1 [==============================] - ETA: 0s - loss: 0.1568 - accuracy: 0.9231"
     ]
    },
    {
     "name": "stderr",
     "output_type": "stream",
     "text": [
      "\u001b[34m\u001b[1mwandb\u001b[0m: \u001b[33mWARNING\u001b[0m No validation_data set, pass a generator to the callback.\n"
     ]
    },
    {
     "name": "stdout",
     "output_type": "stream",
     "text": [
      "1/1 [==============================] - 0s 57ms/step - loss: 0.1568 - accuracy: 0.9231 - val_loss: 0.7425 - val_accuracy: 0.7778\n",
      "Epoch 47/50\n",
      "1/1 [==============================] - ETA: 0s - loss: 0.5140 - accuracy: 0.8462"
     ]
    },
    {
     "name": "stderr",
     "output_type": "stream",
     "text": [
      "\u001b[34m\u001b[1mwandb\u001b[0m: \u001b[33mWARNING\u001b[0m No validation_data set, pass a generator to the callback.\n"
     ]
    },
    {
     "name": "stdout",
     "output_type": "stream",
     "text": [
      "1/1 [==============================] - 0s 36ms/step - loss: 0.5140 - accuracy: 0.8462 - val_loss: 1.2390 - val_accuracy: 0.7778\n",
      "Epoch 48/50\n",
      "1/1 [==============================] - ETA: 0s - loss: 0.8578 - accuracy: 0.8462"
     ]
    },
    {
     "name": "stderr",
     "output_type": "stream",
     "text": [
      "\u001b[34m\u001b[1mwandb\u001b[0m: \u001b[33mWARNING\u001b[0m No validation_data set, pass a generator to the callback.\n"
     ]
    },
    {
     "name": "stdout",
     "output_type": "stream",
     "text": [
      "1/1 [==============================] - 0s 36ms/step - loss: 0.8578 - accuracy: 0.8462 - val_loss: 1.5336 - val_accuracy: 0.7778\n",
      "Epoch 49/50\n",
      "1/1 [==============================] - ETA: 0s - loss: 1.0617 - accuracy: 0.8462"
     ]
    },
    {
     "name": "stderr",
     "output_type": "stream",
     "text": [
      "\u001b[34m\u001b[1mwandb\u001b[0m: \u001b[33mWARNING\u001b[0m No validation_data set, pass a generator to the callback.\n"
     ]
    },
    {
     "name": "stdout",
     "output_type": "stream",
     "text": [
      "1/1 [==============================] - 0s 38ms/step - loss: 1.0617 - accuracy: 0.8462 - val_loss: 1.6310 - val_accuracy: 0.7778\n",
      "Epoch 50/50\n",
      "1/1 [==============================] - ETA: 0s - loss: 1.1291 - accuracy: 0.8462"
     ]
    },
    {
     "name": "stderr",
     "output_type": "stream",
     "text": [
      "\u001b[34m\u001b[1mwandb\u001b[0m: \u001b[33mWARNING\u001b[0m No validation_data set, pass a generator to the callback.\n"
     ]
    },
    {
     "name": "stdout",
     "output_type": "stream",
     "text": [
      "1/1 [==============================] - 0s 49ms/step - loss: 1.1291 - accuracy: 0.8462 - val_loss: 1.5474 - val_accuracy: 0.7778\n"
     ]
    },
    {
     "data": {
      "text/plain": [
       "<keras.src.callbacks.History at 0x7ff408209b80>"
      ]
     },
     "execution_count": 9,
     "metadata": {},
     "output_type": "execute_result"
    }
   ],
   "source": [
    "wandb.init()\n",
    "model.fit(X_train, y_train_hot, epochs=config.epochs, validation_data=(X_test, y_test_hot), callbacks=[WandbCallback(data_type=\"image\", labels=labels)])"
   ]
  },
  {
   "cell_type": "code",
   "execution_count": 10,
   "metadata": {},
   "outputs": [
    {
     "name": "stdout",
     "output_type": "stream",
     "text": [
      "1/1 [==============================] - 0s 78ms/step\n"
     ]
    },
    {
     "data": {
      "text/plain": [
       "array([[2.7565463e-12, 1.0000000e+00]], dtype=float32)"
      ]
     },
     "execution_count": 10,
     "metadata": {},
     "output_type": "execute_result"
    }
   ],
   "source": [
    "testDir = '/mnt/c/Users/edwar/OneDrive - UTS/jupyter notebooks/49275/videoCopy/test'\n",
    "mfcc = wav2mfcc(os.path.join(testDir, '0up.wav'))\n",
    "\n",
    "model.predict(mfcc[None,...])\n",
    "# confidently predicted as up "
   ]
  },
  {
   "cell_type": "code",
   "execution_count": 11,
   "metadata": {},
   "outputs": [],
   "source": [
    "# build model\n",
    "model = Sequential()\n",
    "#model.add(LSTM(16, input_shape=(config.buckets, config.max_len, channels), activation=\"sigmoid\"))\n",
    "model.add(LSTM(16, input_shape=(config.buckets, config.max_len), activation=\"sigmoid\"))\n",
    "model.add(Dense(1, activation='sigmoid'))\n",
    "model.add(Dense(num_classes, activation='softmax'))"
   ]
  },
  {
   "cell_type": "code",
   "execution_count": 12,
   "metadata": {},
   "outputs": [],
   "source": [
    "model.compile(loss=\"categorical_crossentropy\",\n",
    "                  optimizer=\"adam\",\n",
    "                  metrics=['accuracy'])"
   ]
  },
  {
   "cell_type": "code",
   "execution_count": 13,
   "metadata": {},
   "outputs": [
    {
     "data": {
      "text/html": [
       "Finishing last run (ID:ho82fud4) before initializing another..."
      ],
      "text/plain": [
       "<IPython.core.display.HTML object>"
      ]
     },
     "metadata": {},
     "output_type": "display_data"
    },
    {
     "data": {
      "application/vnd.jupyter.widget-view+json": {
       "model_id": "",
       "version_major": 2,
       "version_minor": 0
      },
      "text/plain": [
       "VBox(children=(Label(value='1.503 MB of 1.503 MB uploaded (0.123 MB deduped)\\r'), FloatProgress(value=1.0, max…"
      ]
     },
     "metadata": {},
     "output_type": "display_data"
    },
    {
     "data": {
      "text/html": [
       "W&B sync reduced upload amount by 7.9%             "
      ],
      "text/plain": [
       "<IPython.core.display.HTML object>"
      ]
     },
     "metadata": {},
     "output_type": "display_data"
    },
    {
     "data": {
      "text/html": [
       "<style>\n",
       "    table.wandb td:nth-child(1) { padding: 0 10px; text-align: left ; width: auto;} td:nth-child(2) {text-align: left ; width: 100%}\n",
       "    .wandb-row { display: flex; flex-direction: row; flex-wrap: wrap; justify-content: flex-start; width: 100% }\n",
       "    .wandb-col { display: flex; flex-direction: column; flex-basis: 100%; flex: 1; padding: 10px; }\n",
       "    </style>\n",
       "<div class=\"wandb-row\"><div class=\"wandb-col\"><h3>Run history:</h3><br/><table class=\"wandb\"><tr><td>accuracy</td><td>▁▁▁▁▁▁▁▁▁▁▁▁▁▁▂▂▃▃▂▂▂▂▂▂▃▃▆▇▃▃▃▃▃▃▃██▇▇▇</td></tr><tr><td>epoch</td><td>▁▁▁▁▂▂▂▂▂▃▃▃▃▃▃▄▄▄▄▄▅▅▅▅▅▅▆▆▆▆▆▆▇▇▇▇▇███</td></tr><tr><td>loss</td><td>██▇▇▆▆▅▅▄▄▃▃▂▂▂▁▁▂▂▂▂▂▂▂▁▁▁▁▁▁▁▁▁▁▁▁▁▁▁▁</td></tr><tr><td>val_accuracy</td><td>▅▅▅▅▅▅▅▅▅▅▅▅▅▆▆▅▂▁▁▁▁▁▁▂▅▅▆▇▇▇▇▇▇▇▇█▆▆▆▆</td></tr><tr><td>val_loss</td><td>██▇▇▆▅▅▅▄▃▃▂▂▁▁▁▂▃▃▃▃▃▂▂▂▁▁▁▁▁▁▁▁▁▁▁▁▁▁▁</td></tr></table><br/></div><div class=\"wandb-col\"><h3>Run summary:</h3><br/><table class=\"wandb\"><tr><td>accuracy</td><td>0.84615</td></tr><tr><td>best_epoch</td><td>43</td></tr><tr><td>best_val_loss</td><td>0.01747</td></tr><tr><td>epoch</td><td>49</td></tr><tr><td>loss</td><td>1.12914</td></tr><tr><td>val_accuracy</td><td>0.77778</td></tr><tr><td>val_loss</td><td>1.54738</td></tr></table><br/></div></div>"
      ],
      "text/plain": [
       "<IPython.core.display.HTML object>"
      ]
     },
     "metadata": {},
     "output_type": "display_data"
    },
    {
     "data": {
      "text/html": [
       " View run <strong style=\"color:#cdcd00\">mythical-cruiser-14</strong> at: <a href='https://wandb.ai/edwardnicholasbruin/uncategorized/runs/ho82fud4' target=\"_blank\">https://wandb.ai/edwardnicholasbruin/uncategorized/runs/ho82fud4</a><br/> View project at: <a href='https://wandb.ai/edwardnicholasbruin/uncategorized' target=\"_blank\">https://wandb.ai/edwardnicholasbruin/uncategorized</a><br/>Synced 5 W&B file(s), 1 media file(s), 115 artifact file(s) and 1 other file(s)"
      ],
      "text/plain": [
       "<IPython.core.display.HTML object>"
      ]
     },
     "metadata": {},
     "output_type": "display_data"
    },
    {
     "data": {
      "text/html": [
       "Find logs at: <code>./wandb/run-20240505_134147-ho82fud4/logs</code>"
      ],
      "text/plain": [
       "<IPython.core.display.HTML object>"
      ]
     },
     "metadata": {},
     "output_type": "display_data"
    },
    {
     "data": {
      "text/html": [
       "Successfully finished last run (ID:ho82fud4). Initializing new run:<br/>"
      ],
      "text/plain": [
       "<IPython.core.display.HTML object>"
      ]
     },
     "metadata": {},
     "output_type": "display_data"
    },
    {
     "data": {
      "application/vnd.jupyter.widget-view+json": {
       "model_id": "72352a564b7e46f79b31e024c0d419f4",
       "version_major": 2,
       "version_minor": 0
      },
      "text/plain": [
       "VBox(children=(Label(value='Waiting for wandb.init()...\\r'), FloatProgress(value=0.011113420844443075, max=1.0…"
      ]
     },
     "metadata": {},
     "output_type": "display_data"
    },
    {
     "data": {
      "text/html": [
       "Tracking run with wandb version 0.16.6"
      ],
      "text/plain": [
       "<IPython.core.display.HTML object>"
      ]
     },
     "metadata": {},
     "output_type": "display_data"
    },
    {
     "data": {
      "text/html": [
       "Run data is saved locally in <code>/mnt/c/Users/edwar/OneDrive - UTS/jupyter notebooks/49275/videoCopy/wandb/run-20240505_134217-umeldu76</code>"
      ],
      "text/plain": [
       "<IPython.core.display.HTML object>"
      ]
     },
     "metadata": {},
     "output_type": "display_data"
    },
    {
     "data": {
      "text/html": [
       "Syncing run <strong><a href='https://wandb.ai/edwardnicholasbruin/uncategorized/runs/umeldu76' target=\"_blank\">sith-republic-15</a></strong> to <a href='https://wandb.ai/edwardnicholasbruin/uncategorized' target=\"_blank\">Weights & Biases</a> (<a href='https://wandb.me/run' target=\"_blank\">docs</a>)<br/>"
      ],
      "text/plain": [
       "<IPython.core.display.HTML object>"
      ]
     },
     "metadata": {},
     "output_type": "display_data"
    },
    {
     "data": {
      "text/html": [
       " View project at <a href='https://wandb.ai/edwardnicholasbruin/uncategorized' target=\"_blank\">https://wandb.ai/edwardnicholasbruin/uncategorized</a>"
      ],
      "text/plain": [
       "<IPython.core.display.HTML object>"
      ]
     },
     "metadata": {},
     "output_type": "display_data"
    },
    {
     "data": {
      "text/html": [
       " View run at <a href='https://wandb.ai/edwardnicholasbruin/uncategorized/runs/umeldu76' target=\"_blank\">https://wandb.ai/edwardnicholasbruin/uncategorized/runs/umeldu76</a>"
      ],
      "text/plain": [
       "<IPython.core.display.HTML object>"
      ]
     },
     "metadata": {},
     "output_type": "display_data"
    },
    {
     "name": "stdout",
     "output_type": "stream",
     "text": [
      "Epoch 1/50\n",
      "1/1 [==============================] - ETA: 0s - loss: 0.6922 - accuracy: 0.5385"
     ]
    },
    {
     "name": "stderr",
     "output_type": "stream",
     "text": [
      "\u001b[34m\u001b[1mwandb\u001b[0m: \u001b[33mWARNING\u001b[0m No validation_data set, pass a generator to the callback.\n",
      "/home/edward/.local/lib/python3.8/site-packages/keras/src/engine/training.py:3000: UserWarning: You are saving your model as an HDF5 file via `model.save()`. This file format is considered legacy. We recommend using instead the native Keras format, e.g. `model.save('my_model.keras')`.\n",
      "  saving_api.save_model(\n"
     ]
    },
    {
     "name": "stdout",
     "output_type": "stream",
     "text": [
      "INFO:tensorflow:Assets written to: /mnt/c/Users/edwar/OneDrive - UTS/jupyter notebooks/49275/videoCopy/wandb/run-20240505_134217-umeldu76/files/model-best/assets\n"
     ]
    },
    {
     "name": "stderr",
     "output_type": "stream",
     "text": [
      "INFO:tensorflow:Assets written to: /mnt/c/Users/edwar/OneDrive - UTS/jupyter notebooks/49275/videoCopy/wandb/run-20240505_134217-umeldu76/files/model-best/assets\n",
      "\u001b[34m\u001b[1mwandb\u001b[0m: Adding directory to artifact (/mnt/c/Users/edwar/OneDrive - UTS/jupyter notebooks/49275/videoCopy/wandb/run-20240505_134217-umeldu76/files/model-best)... Done. 0.0s\n"
     ]
    },
    {
     "name": "stdout",
     "output_type": "stream",
     "text": [
      "1/1 [==============================] - 4s 4s/step - loss: 0.6922 - accuracy: 0.5385 - val_loss: 0.7074 - val_accuracy: 0.3333\n",
      "Epoch 2/50\n",
      "1/1 [==============================] - ETA: 0s - loss: 0.6920 - accuracy: 0.5385"
     ]
    },
    {
     "name": "stderr",
     "output_type": "stream",
     "text": [
      "\u001b[34m\u001b[1mwandb\u001b[0m: \u001b[33mWARNING\u001b[0m No validation_data set, pass a generator to the callback.\n"
     ]
    },
    {
     "name": "stdout",
     "output_type": "stream",
     "text": [
      "1/1 [==============================] - 0s 48ms/step - loss: 0.6920 - accuracy: 0.5385 - val_loss: 0.7079 - val_accuracy: 0.3333\n",
      "Epoch 3/50\n",
      "1/1 [==============================] - ETA: 0s - loss: 0.6918 - accuracy: 0.5385"
     ]
    },
    {
     "name": "stderr",
     "output_type": "stream",
     "text": [
      "\u001b[34m\u001b[1mwandb\u001b[0m: \u001b[33mWARNING\u001b[0m No validation_data set, pass a generator to the callback.\n"
     ]
    },
    {
     "name": "stdout",
     "output_type": "stream",
     "text": [
      "1/1 [==============================] - 0s 56ms/step - loss: 0.6918 - accuracy: 0.5385 - val_loss: 0.7084 - val_accuracy: 0.3333\n",
      "Epoch 4/50\n",
      "1/1 [==============================] - ETA: 0s - loss: 0.6916 - accuracy: 0.5385"
     ]
    },
    {
     "name": "stderr",
     "output_type": "stream",
     "text": [
      "\u001b[34m\u001b[1mwandb\u001b[0m: \u001b[33mWARNING\u001b[0m No validation_data set, pass a generator to the callback.\n"
     ]
    },
    {
     "name": "stdout",
     "output_type": "stream",
     "text": [
      "1/1 [==============================] - 0s 66ms/step - loss: 0.6916 - accuracy: 0.5385 - val_loss: 0.7089 - val_accuracy: 0.3333\n",
      "Epoch 5/50\n",
      "1/1 [==============================] - ETA: 0s - loss: 0.6914 - accuracy: 0.5385"
     ]
    },
    {
     "name": "stderr",
     "output_type": "stream",
     "text": [
      "\u001b[34m\u001b[1mwandb\u001b[0m: \u001b[33mWARNING\u001b[0m No validation_data set, pass a generator to the callback.\n"
     ]
    },
    {
     "name": "stdout",
     "output_type": "stream",
     "text": [
      "1/1 [==============================] - 0s 51ms/step - loss: 0.6914 - accuracy: 0.5385 - val_loss: 0.7094 - val_accuracy: 0.3333\n",
      "Epoch 6/50\n",
      "1/1 [==============================] - ETA: 0s - loss: 0.6912 - accuracy: 0.5385"
     ]
    },
    {
     "name": "stderr",
     "output_type": "stream",
     "text": [
      "\u001b[34m\u001b[1mwandb\u001b[0m: \u001b[33mWARNING\u001b[0m No validation_data set, pass a generator to the callback.\n"
     ]
    },
    {
     "name": "stdout",
     "output_type": "stream",
     "text": [
      "1/1 [==============================] - 0s 48ms/step - loss: 0.6912 - accuracy: 0.5385 - val_loss: 0.7099 - val_accuracy: 0.3333\n",
      "Epoch 7/50\n",
      "1/1 [==============================] - ETA: 0s - loss: 0.6910 - accuracy: 0.5385"
     ]
    },
    {
     "name": "stderr",
     "output_type": "stream",
     "text": [
      "\u001b[34m\u001b[1mwandb\u001b[0m: \u001b[33mWARNING\u001b[0m No validation_data set, pass a generator to the callback.\n"
     ]
    },
    {
     "name": "stdout",
     "output_type": "stream",
     "text": [
      "1/1 [==============================] - 0s 65ms/step - loss: 0.6910 - accuracy: 0.5385 - val_loss: 0.7104 - val_accuracy: 0.3333\n",
      "Epoch 8/50\n",
      "1/1 [==============================] - ETA: 0s - loss: 0.6908 - accuracy: 0.5385"
     ]
    },
    {
     "name": "stderr",
     "output_type": "stream",
     "text": [
      "\u001b[34m\u001b[1mwandb\u001b[0m: \u001b[33mWARNING\u001b[0m No validation_data set, pass a generator to the callback.\n"
     ]
    },
    {
     "name": "stdout",
     "output_type": "stream",
     "text": [
      "1/1 [==============================] - 0s 49ms/step - loss: 0.6908 - accuracy: 0.5385 - val_loss: 0.7109 - val_accuracy: 0.3333\n",
      "Epoch 9/50\n",
      "1/1 [==============================] - ETA: 0s - loss: 0.6906 - accuracy: 0.5385"
     ]
    },
    {
     "name": "stderr",
     "output_type": "stream",
     "text": [
      "\u001b[34m\u001b[1mwandb\u001b[0m: \u001b[33mWARNING\u001b[0m No validation_data set, pass a generator to the callback.\n"
     ]
    },
    {
     "name": "stdout",
     "output_type": "stream",
     "text": [
      "1/1 [==============================] - 0s 47ms/step - loss: 0.6906 - accuracy: 0.5385 - val_loss: 0.7113 - val_accuracy: 0.3333\n",
      "Epoch 10/50\n",
      "1/1 [==============================] - ETA: 0s - loss: 0.6904 - accuracy: 0.5385"
     ]
    },
    {
     "name": "stderr",
     "output_type": "stream",
     "text": [
      "\u001b[34m\u001b[1mwandb\u001b[0m: \u001b[33mWARNING\u001b[0m No validation_data set, pass a generator to the callback.\n"
     ]
    },
    {
     "name": "stdout",
     "output_type": "stream",
     "text": [
      "1/1 [==============================] - 0s 54ms/step - loss: 0.6904 - accuracy: 0.5385 - val_loss: 0.7118 - val_accuracy: 0.3333\n",
      "Epoch 11/50\n",
      "1/1 [==============================] - ETA: 0s - loss: 0.6902 - accuracy: 0.5385"
     ]
    },
    {
     "name": "stderr",
     "output_type": "stream",
     "text": [
      "\u001b[34m\u001b[1mwandb\u001b[0m: \u001b[33mWARNING\u001b[0m No validation_data set, pass a generator to the callback.\n"
     ]
    },
    {
     "name": "stdout",
     "output_type": "stream",
     "text": [
      "1/1 [==============================] - 0s 50ms/step - loss: 0.6902 - accuracy: 0.5385 - val_loss: 0.7123 - val_accuracy: 0.3333\n",
      "Epoch 12/50\n",
      "1/1 [==============================] - ETA: 0s - loss: 0.6900 - accuracy: 0.5385"
     ]
    },
    {
     "name": "stderr",
     "output_type": "stream",
     "text": [
      "\u001b[34m\u001b[1mwandb\u001b[0m: \u001b[33mWARNING\u001b[0m No validation_data set, pass a generator to the callback.\n"
     ]
    },
    {
     "name": "stdout",
     "output_type": "stream",
     "text": [
      "1/1 [==============================] - 0s 53ms/step - loss: 0.6900 - accuracy: 0.5385 - val_loss: 0.7128 - val_accuracy: 0.3333\n",
      "Epoch 13/50\n",
      "1/1 [==============================] - ETA: 0s - loss: 0.6898 - accuracy: 0.5385"
     ]
    },
    {
     "name": "stderr",
     "output_type": "stream",
     "text": [
      "\u001b[34m\u001b[1mwandb\u001b[0m: \u001b[33mWARNING\u001b[0m No validation_data set, pass a generator to the callback.\n"
     ]
    },
    {
     "name": "stdout",
     "output_type": "stream",
     "text": [
      "1/1 [==============================] - 0s 44ms/step - loss: 0.6898 - accuracy: 0.5385 - val_loss: 0.7133 - val_accuracy: 0.3333\n",
      "Epoch 14/50\n",
      "1/1 [==============================] - ETA: 0s - loss: 0.6895 - accuracy: 0.5385"
     ]
    },
    {
     "name": "stderr",
     "output_type": "stream",
     "text": [
      "\u001b[34m\u001b[1mwandb\u001b[0m: \u001b[33mWARNING\u001b[0m No validation_data set, pass a generator to the callback.\n"
     ]
    },
    {
     "name": "stdout",
     "output_type": "stream",
     "text": [
      "1/1 [==============================] - 0s 92ms/step - loss: 0.6895 - accuracy: 0.5385 - val_loss: 0.7137 - val_accuracy: 0.3333\n",
      "Epoch 15/50\n",
      "1/1 [==============================] - ETA: 0s - loss: 0.6893 - accuracy: 0.5385"
     ]
    },
    {
     "name": "stderr",
     "output_type": "stream",
     "text": [
      "\u001b[34m\u001b[1mwandb\u001b[0m: \u001b[33mWARNING\u001b[0m No validation_data set, pass a generator to the callback.\n"
     ]
    },
    {
     "name": "stdout",
     "output_type": "stream",
     "text": [
      "1/1 [==============================] - 0s 85ms/step - loss: 0.6893 - accuracy: 0.5385 - val_loss: 0.7142 - val_accuracy: 0.3333\n",
      "Epoch 16/50\n",
      "1/1 [==============================] - ETA: 0s - loss: 0.6891 - accuracy: 0.5385"
     ]
    },
    {
     "name": "stderr",
     "output_type": "stream",
     "text": [
      "\u001b[34m\u001b[1mwandb\u001b[0m: \u001b[33mWARNING\u001b[0m No validation_data set, pass a generator to the callback.\n"
     ]
    },
    {
     "name": "stdout",
     "output_type": "stream",
     "text": [
      "1/1 [==============================] - 0s 46ms/step - loss: 0.6891 - accuracy: 0.5385 - val_loss: 0.7147 - val_accuracy: 0.3333\n",
      "Epoch 17/50\n",
      "1/1 [==============================] - ETA: 0s - loss: 0.6889 - accuracy: 0.5385"
     ]
    },
    {
     "name": "stderr",
     "output_type": "stream",
     "text": [
      "\u001b[34m\u001b[1mwandb\u001b[0m: \u001b[33mWARNING\u001b[0m No validation_data set, pass a generator to the callback.\n"
     ]
    },
    {
     "name": "stdout",
     "output_type": "stream",
     "text": [
      "1/1 [==============================] - 0s 46ms/step - loss: 0.6889 - accuracy: 0.5385 - val_loss: 0.7151 - val_accuracy: 0.3333\n",
      "Epoch 18/50\n",
      "1/1 [==============================] - ETA: 0s - loss: 0.6887 - accuracy: 0.5385"
     ]
    },
    {
     "name": "stderr",
     "output_type": "stream",
     "text": [
      "\u001b[34m\u001b[1mwandb\u001b[0m: \u001b[33mWARNING\u001b[0m No validation_data set, pass a generator to the callback.\n"
     ]
    },
    {
     "name": "stdout",
     "output_type": "stream",
     "text": [
      "1/1 [==============================] - 0s 51ms/step - loss: 0.6887 - accuracy: 0.5385 - val_loss: 0.7155 - val_accuracy: 0.3333\n",
      "Epoch 19/50\n",
      "1/1 [==============================] - ETA: 0s - loss: 0.6884 - accuracy: 0.5385"
     ]
    },
    {
     "name": "stderr",
     "output_type": "stream",
     "text": [
      "\u001b[34m\u001b[1mwandb\u001b[0m: \u001b[33mWARNING\u001b[0m No validation_data set, pass a generator to the callback.\n"
     ]
    },
    {
     "name": "stdout",
     "output_type": "stream",
     "text": [
      "1/1 [==============================] - 0s 64ms/step - loss: 0.6884 - accuracy: 0.5385 - val_loss: 0.7159 - val_accuracy: 0.3333\n",
      "Epoch 20/50\n",
      "1/1 [==============================] - ETA: 0s - loss: 0.6882 - accuracy: 0.5385"
     ]
    },
    {
     "name": "stderr",
     "output_type": "stream",
     "text": [
      "\u001b[34m\u001b[1mwandb\u001b[0m: \u001b[33mWARNING\u001b[0m No validation_data set, pass a generator to the callback.\n"
     ]
    },
    {
     "name": "stdout",
     "output_type": "stream",
     "text": [
      "1/1 [==============================] - 0s 47ms/step - loss: 0.6882 - accuracy: 0.5385 - val_loss: 0.7163 - val_accuracy: 0.3333\n",
      "Epoch 21/50\n",
      "1/1 [==============================] - ETA: 0s - loss: 0.6880 - accuracy: 0.5385"
     ]
    },
    {
     "name": "stderr",
     "output_type": "stream",
     "text": [
      "\u001b[34m\u001b[1mwandb\u001b[0m: \u001b[33mWARNING\u001b[0m No validation_data set, pass a generator to the callback.\n"
     ]
    },
    {
     "name": "stdout",
     "output_type": "stream",
     "text": [
      "1/1 [==============================] - 0s 44ms/step - loss: 0.6880 - accuracy: 0.5385 - val_loss: 0.7167 - val_accuracy: 0.3333\n",
      "Epoch 22/50\n",
      "1/1 [==============================] - ETA: 0s - loss: 0.6878 - accuracy: 0.5385"
     ]
    },
    {
     "name": "stderr",
     "output_type": "stream",
     "text": [
      "\u001b[34m\u001b[1mwandb\u001b[0m: \u001b[33mWARNING\u001b[0m No validation_data set, pass a generator to the callback.\n"
     ]
    },
    {
     "name": "stdout",
     "output_type": "stream",
     "text": [
      "1/1 [==============================] - 0s 50ms/step - loss: 0.6878 - accuracy: 0.5385 - val_loss: 0.7170 - val_accuracy: 0.3333\n",
      "Epoch 23/50\n",
      "1/1 [==============================] - ETA: 0s - loss: 0.6875 - accuracy: 0.5385"
     ]
    },
    {
     "name": "stderr",
     "output_type": "stream",
     "text": [
      "\u001b[34m\u001b[1mwandb\u001b[0m: \u001b[33mWARNING\u001b[0m No validation_data set, pass a generator to the callback.\n"
     ]
    },
    {
     "name": "stdout",
     "output_type": "stream",
     "text": [
      "1/1 [==============================] - 0s 65ms/step - loss: 0.6875 - accuracy: 0.5385 - val_loss: 0.7173 - val_accuracy: 0.3333\n",
      "Epoch 24/50\n",
      "1/1 [==============================] - ETA: 0s - loss: 0.6873 - accuracy: 0.5385"
     ]
    },
    {
     "name": "stderr",
     "output_type": "stream",
     "text": [
      "\u001b[34m\u001b[1mwandb\u001b[0m: \u001b[33mWARNING\u001b[0m No validation_data set, pass a generator to the callback.\n"
     ]
    },
    {
     "name": "stdout",
     "output_type": "stream",
     "text": [
      "1/1 [==============================] - 0s 45ms/step - loss: 0.6873 - accuracy: 0.5385 - val_loss: 0.7176 - val_accuracy: 0.3333\n",
      "Epoch 25/50\n",
      "1/1 [==============================] - ETA: 0s - loss: 0.6871 - accuracy: 0.5385"
     ]
    },
    {
     "name": "stderr",
     "output_type": "stream",
     "text": [
      "\u001b[34m\u001b[1mwandb\u001b[0m: \u001b[33mWARNING\u001b[0m No validation_data set, pass a generator to the callback.\n"
     ]
    },
    {
     "name": "stdout",
     "output_type": "stream",
     "text": [
      "1/1 [==============================] - 0s 51ms/step - loss: 0.6871 - accuracy: 0.5385 - val_loss: 0.7179 - val_accuracy: 0.3333\n",
      "Epoch 26/50\n",
      "1/1 [==============================] - ETA: 0s - loss: 0.6868 - accuracy: 0.5385"
     ]
    },
    {
     "name": "stderr",
     "output_type": "stream",
     "text": [
      "\u001b[34m\u001b[1mwandb\u001b[0m: \u001b[33mWARNING\u001b[0m No validation_data set, pass a generator to the callback.\n"
     ]
    },
    {
     "name": "stdout",
     "output_type": "stream",
     "text": [
      "1/1 [==============================] - 0s 55ms/step - loss: 0.6868 - accuracy: 0.5385 - val_loss: 0.7181 - val_accuracy: 0.3333\n",
      "Epoch 27/50\n",
      "1/1 [==============================] - ETA: 0s - loss: 0.6866 - accuracy: 0.5385"
     ]
    },
    {
     "name": "stderr",
     "output_type": "stream",
     "text": [
      "\u001b[34m\u001b[1mwandb\u001b[0m: \u001b[33mWARNING\u001b[0m No validation_data set, pass a generator to the callback.\n"
     ]
    },
    {
     "name": "stdout",
     "output_type": "stream",
     "text": [
      "1/1 [==============================] - 0s 46ms/step - loss: 0.6866 - accuracy: 0.5385 - val_loss: 0.7184 - val_accuracy: 0.3333\n",
      "Epoch 28/50\n",
      "1/1 [==============================] - ETA: 0s - loss: 0.6863 - accuracy: 0.5385"
     ]
    },
    {
     "name": "stderr",
     "output_type": "stream",
     "text": [
      "\u001b[34m\u001b[1mwandb\u001b[0m: \u001b[33mWARNING\u001b[0m No validation_data set, pass a generator to the callback.\n"
     ]
    },
    {
     "name": "stdout",
     "output_type": "stream",
     "text": [
      "1/1 [==============================] - 0s 47ms/step - loss: 0.6863 - accuracy: 0.5385 - val_loss: 0.7185 - val_accuracy: 0.3333\n",
      "Epoch 29/50\n",
      "1/1 [==============================] - ETA: 0s - loss: 0.6861 - accuracy: 0.5385"
     ]
    },
    {
     "name": "stderr",
     "output_type": "stream",
     "text": [
      "\u001b[34m\u001b[1mwandb\u001b[0m: \u001b[33mWARNING\u001b[0m No validation_data set, pass a generator to the callback.\n"
     ]
    },
    {
     "name": "stdout",
     "output_type": "stream",
     "text": [
      "1/1 [==============================] - 0s 45ms/step - loss: 0.6861 - accuracy: 0.5385 - val_loss: 0.7187 - val_accuracy: 0.3333\n",
      "Epoch 30/50\n",
      "1/1 [==============================] - ETA: 0s - loss: 0.6858 - accuracy: 0.5385"
     ]
    },
    {
     "name": "stderr",
     "output_type": "stream",
     "text": [
      "\u001b[34m\u001b[1mwandb\u001b[0m: \u001b[33mWARNING\u001b[0m No validation_data set, pass a generator to the callback.\n"
     ]
    },
    {
     "name": "stdout",
     "output_type": "stream",
     "text": [
      "1/1 [==============================] - 0s 43ms/step - loss: 0.6858 - accuracy: 0.5385 - val_loss: 0.7188 - val_accuracy: 0.3333\n",
      "Epoch 31/50\n",
      "1/1 [==============================] - ETA: 0s - loss: 0.6855 - accuracy: 0.5385"
     ]
    },
    {
     "name": "stderr",
     "output_type": "stream",
     "text": [
      "\u001b[34m\u001b[1mwandb\u001b[0m: \u001b[33mWARNING\u001b[0m No validation_data set, pass a generator to the callback.\n"
     ]
    },
    {
     "name": "stdout",
     "output_type": "stream",
     "text": [
      "1/1 [==============================] - 0s 42ms/step - loss: 0.6855 - accuracy: 0.5385 - val_loss: 0.7189 - val_accuracy: 0.3333\n",
      "Epoch 32/50\n",
      "1/1 [==============================] - ETA: 0s - loss: 0.6853 - accuracy: 0.5385"
     ]
    },
    {
     "name": "stderr",
     "output_type": "stream",
     "text": [
      "\u001b[34m\u001b[1mwandb\u001b[0m: \u001b[33mWARNING\u001b[0m No validation_data set, pass a generator to the callback.\n"
     ]
    },
    {
     "name": "stdout",
     "output_type": "stream",
     "text": [
      "1/1 [==============================] - 0s 43ms/step - loss: 0.6853 - accuracy: 0.5385 - val_loss: 0.7190 - val_accuracy: 0.3333\n",
      "Epoch 33/50\n",
      "1/1 [==============================] - ETA: 0s - loss: 0.6850 - accuracy: 0.5385"
     ]
    },
    {
     "name": "stderr",
     "output_type": "stream",
     "text": [
      "\u001b[34m\u001b[1mwandb\u001b[0m: \u001b[33mWARNING\u001b[0m No validation_data set, pass a generator to the callback.\n"
     ]
    },
    {
     "name": "stdout",
     "output_type": "stream",
     "text": [
      "1/1 [==============================] - 0s 49ms/step - loss: 0.6850 - accuracy: 0.5385 - val_loss: 0.7190 - val_accuracy: 0.3333\n",
      "Epoch 34/50\n",
      "1/1 [==============================] - ETA: 0s - loss: 0.6847 - accuracy: 0.5385"
     ]
    },
    {
     "name": "stderr",
     "output_type": "stream",
     "text": [
      "\u001b[34m\u001b[1mwandb\u001b[0m: \u001b[33mWARNING\u001b[0m No validation_data set, pass a generator to the callback.\n"
     ]
    },
    {
     "name": "stdout",
     "output_type": "stream",
     "text": [
      "1/1 [==============================] - 0s 57ms/step - loss: 0.6847 - accuracy: 0.5385 - val_loss: 0.7190 - val_accuracy: 0.3333\n",
      "Epoch 35/50\n",
      "1/1 [==============================] - ETA: 0s - loss: 0.6844 - accuracy: 0.5385"
     ]
    },
    {
     "name": "stderr",
     "output_type": "stream",
     "text": [
      "\u001b[34m\u001b[1mwandb\u001b[0m: \u001b[33mWARNING\u001b[0m No validation_data set, pass a generator to the callback.\n"
     ]
    },
    {
     "name": "stdout",
     "output_type": "stream",
     "text": [
      "1/1 [==============================] - 0s 50ms/step - loss: 0.6844 - accuracy: 0.5385 - val_loss: 0.7189 - val_accuracy: 0.3333\n",
      "Epoch 36/50\n",
      "1/1 [==============================] - ETA: 0s - loss: 0.6841 - accuracy: 0.5385"
     ]
    },
    {
     "name": "stderr",
     "output_type": "stream",
     "text": [
      "\u001b[34m\u001b[1mwandb\u001b[0m: \u001b[33mWARNING\u001b[0m No validation_data set, pass a generator to the callback.\n"
     ]
    },
    {
     "name": "stdout",
     "output_type": "stream",
     "text": [
      "1/1 [==============================] - 0s 46ms/step - loss: 0.6841 - accuracy: 0.5385 - val_loss: 0.7189 - val_accuracy: 0.3333\n",
      "Epoch 37/50\n",
      "1/1 [==============================] - ETA: 0s - loss: 0.6838 - accuracy: 0.5385"
     ]
    },
    {
     "name": "stderr",
     "output_type": "stream",
     "text": [
      "\u001b[34m\u001b[1mwandb\u001b[0m: \u001b[33mWARNING\u001b[0m No validation_data set, pass a generator to the callback.\n"
     ]
    },
    {
     "name": "stdout",
     "output_type": "stream",
     "text": [
      "1/1 [==============================] - 0s 45ms/step - loss: 0.6838 - accuracy: 0.5385 - val_loss: 0.7188 - val_accuracy: 0.3333\n",
      "Epoch 38/50\n",
      "1/1 [==============================] - ETA: 0s - loss: 0.6835 - accuracy: 0.5385"
     ]
    },
    {
     "name": "stderr",
     "output_type": "stream",
     "text": [
      "\u001b[34m\u001b[1mwandb\u001b[0m: \u001b[33mWARNING\u001b[0m No validation_data set, pass a generator to the callback.\n"
     ]
    },
    {
     "name": "stdout",
     "output_type": "stream",
     "text": [
      "1/1 [==============================] - 0s 41ms/step - loss: 0.6835 - accuracy: 0.5385 - val_loss: 0.7186 - val_accuracy: 0.3333\n",
      "Epoch 39/50\n",
      "1/1 [==============================] - ETA: 0s - loss: 0.6832 - accuracy: 0.5385"
     ]
    },
    {
     "name": "stderr",
     "output_type": "stream",
     "text": [
      "\u001b[34m\u001b[1mwandb\u001b[0m: \u001b[33mWARNING\u001b[0m No validation_data set, pass a generator to the callback.\n"
     ]
    },
    {
     "name": "stdout",
     "output_type": "stream",
     "text": [
      "1/1 [==============================] - 0s 43ms/step - loss: 0.6832 - accuracy: 0.5385 - val_loss: 0.7184 - val_accuracy: 0.3333\n",
      "Epoch 40/50\n",
      "1/1 [==============================] - ETA: 0s - loss: 0.6829 - accuracy: 0.5385"
     ]
    },
    {
     "name": "stderr",
     "output_type": "stream",
     "text": [
      "\u001b[34m\u001b[1mwandb\u001b[0m: \u001b[33mWARNING\u001b[0m No validation_data set, pass a generator to the callback.\n"
     ]
    },
    {
     "name": "stdout",
     "output_type": "stream",
     "text": [
      "1/1 [==============================] - 0s 45ms/step - loss: 0.6829 - accuracy: 0.5385 - val_loss: 0.7182 - val_accuracy: 0.3333\n",
      "Epoch 41/50\n",
      "1/1 [==============================] - ETA: 0s - loss: 0.6826 - accuracy: 0.5385"
     ]
    },
    {
     "name": "stderr",
     "output_type": "stream",
     "text": [
      "\u001b[34m\u001b[1mwandb\u001b[0m: \u001b[33mWARNING\u001b[0m No validation_data set, pass a generator to the callback.\n"
     ]
    },
    {
     "name": "stdout",
     "output_type": "stream",
     "text": [
      "1/1 [==============================] - 0s 46ms/step - loss: 0.6826 - accuracy: 0.5385 - val_loss: 0.7180 - val_accuracy: 0.3333\n",
      "Epoch 42/50\n",
      "1/1 [==============================] - ETA: 0s - loss: 0.6822 - accuracy: 0.5385"
     ]
    },
    {
     "name": "stderr",
     "output_type": "stream",
     "text": [
      "\u001b[34m\u001b[1mwandb\u001b[0m: \u001b[33mWARNING\u001b[0m No validation_data set, pass a generator to the callback.\n"
     ]
    },
    {
     "name": "stdout",
     "output_type": "stream",
     "text": [
      "1/1 [==============================] - 0s 48ms/step - loss: 0.6822 - accuracy: 0.5385 - val_loss: 0.7177 - val_accuracy: 0.3333\n",
      "Epoch 43/50\n",
      "1/1 [==============================] - ETA: 0s - loss: 0.6819 - accuracy: 0.5385"
     ]
    },
    {
     "name": "stderr",
     "output_type": "stream",
     "text": [
      "\u001b[34m\u001b[1mwandb\u001b[0m: \u001b[33mWARNING\u001b[0m No validation_data set, pass a generator to the callback.\n"
     ]
    },
    {
     "name": "stdout",
     "output_type": "stream",
     "text": [
      "1/1 [==============================] - 0s 46ms/step - loss: 0.6819 - accuracy: 0.5385 - val_loss: 0.7175 - val_accuracy: 0.3333\n",
      "Epoch 44/50\n",
      "1/1 [==============================] - ETA: 0s - loss: 0.6815 - accuracy: 0.5385"
     ]
    },
    {
     "name": "stderr",
     "output_type": "stream",
     "text": [
      "\u001b[34m\u001b[1mwandb\u001b[0m: \u001b[33mWARNING\u001b[0m No validation_data set, pass a generator to the callback.\n"
     ]
    },
    {
     "name": "stdout",
     "output_type": "stream",
     "text": [
      "1/1 [==============================] - 0s 51ms/step - loss: 0.6815 - accuracy: 0.5385 - val_loss: 0.7171 - val_accuracy: 0.3333\n",
      "Epoch 45/50\n",
      "1/1 [==============================] - ETA: 0s - loss: 0.6812 - accuracy: 0.5385"
     ]
    },
    {
     "name": "stderr",
     "output_type": "stream",
     "text": [
      "\u001b[34m\u001b[1mwandb\u001b[0m: \u001b[33mWARNING\u001b[0m No validation_data set, pass a generator to the callback.\n"
     ]
    },
    {
     "name": "stdout",
     "output_type": "stream",
     "text": [
      "1/1 [==============================] - 0s 51ms/step - loss: 0.6812 - accuracy: 0.5385 - val_loss: 0.7168 - val_accuracy: 0.3333\n",
      "Epoch 46/50\n",
      "1/1 [==============================] - ETA: 0s - loss: 0.6808 - accuracy: 0.5385"
     ]
    },
    {
     "name": "stderr",
     "output_type": "stream",
     "text": [
      "\u001b[34m\u001b[1mwandb\u001b[0m: \u001b[33mWARNING\u001b[0m No validation_data set, pass a generator to the callback.\n"
     ]
    },
    {
     "name": "stdout",
     "output_type": "stream",
     "text": [
      "1/1 [==============================] - 0s 46ms/step - loss: 0.6808 - accuracy: 0.5385 - val_loss: 0.7165 - val_accuracy: 0.3333\n",
      "Epoch 47/50\n",
      "1/1 [==============================] - ETA: 0s - loss: 0.6804 - accuracy: 0.5385"
     ]
    },
    {
     "name": "stderr",
     "output_type": "stream",
     "text": [
      "\u001b[34m\u001b[1mwandb\u001b[0m: \u001b[33mWARNING\u001b[0m No validation_data set, pass a generator to the callback.\n"
     ]
    },
    {
     "name": "stdout",
     "output_type": "stream",
     "text": [
      "1/1 [==============================] - 0s 42ms/step - loss: 0.6804 - accuracy: 0.5385 - val_loss: 0.7161 - val_accuracy: 0.3333\n",
      "Epoch 48/50\n",
      "1/1 [==============================] - ETA: 0s - loss: 0.6800 - accuracy: 0.5385"
     ]
    },
    {
     "name": "stderr",
     "output_type": "stream",
     "text": [
      "\u001b[34m\u001b[1mwandb\u001b[0m: \u001b[33mWARNING\u001b[0m No validation_data set, pass a generator to the callback.\n"
     ]
    },
    {
     "name": "stdout",
     "output_type": "stream",
     "text": [
      "1/1 [==============================] - 0s 43ms/step - loss: 0.6800 - accuracy: 0.5385 - val_loss: 0.7157 - val_accuracy: 0.3333\n",
      "Epoch 49/50\n",
      "1/1 [==============================] - ETA: 0s - loss: 0.6796 - accuracy: 0.5385"
     ]
    },
    {
     "name": "stderr",
     "output_type": "stream",
     "text": [
      "\u001b[34m\u001b[1mwandb\u001b[0m: \u001b[33mWARNING\u001b[0m No validation_data set, pass a generator to the callback.\n"
     ]
    },
    {
     "name": "stdout",
     "output_type": "stream",
     "text": [
      "1/1 [==============================] - 0s 49ms/step - loss: 0.6796 - accuracy: 0.5385 - val_loss: 0.7153 - val_accuracy: 0.3333\n",
      "Epoch 50/50\n",
      "1/1 [==============================] - ETA: 0s - loss: 0.6793 - accuracy: 0.5385"
     ]
    },
    {
     "name": "stderr",
     "output_type": "stream",
     "text": [
      "\u001b[34m\u001b[1mwandb\u001b[0m: \u001b[33mWARNING\u001b[0m No validation_data set, pass a generator to the callback.\n"
     ]
    },
    {
     "name": "stdout",
     "output_type": "stream",
     "text": [
      "1/1 [==============================] - 0s 51ms/step - loss: 0.6793 - accuracy: 0.5385 - val_loss: 0.7148 - val_accuracy: 0.3333\n"
     ]
    },
    {
     "data": {
      "text/plain": [
       "<keras.src.callbacks.History at 0x7ff40cea4040>"
      ]
     },
     "execution_count": 13,
     "metadata": {},
     "output_type": "execute_result"
    }
   ],
   "source": [
    "wandb.init()\n",
    "model.fit(X_train, y_train_hot, epochs=config.epochs, validation_data=(X_test, y_test_hot), callbacks=[WandbCallback(data_type=\"image\", labels=labels)])"
   ]
  },
  {
   "cell_type": "code",
   "execution_count": 14,
   "metadata": {},
   "outputs": [
    {
     "data": {
      "text/plain": [
       "'/mnt/c/Users/edwar/OneDrive - UTS/jupyter notebooks/49275/videoCopy/test/0up.wav'"
      ]
     },
     "execution_count": 14,
     "metadata": {},
     "output_type": "execute_result"
    }
   ],
   "source": [
    "os.path.join(testDir, '0up.wav')"
   ]
  },
  {
   "cell_type": "code",
   "execution_count": 15,
   "metadata": {},
   "outputs": [
    {
     "name": "stdout",
     "output_type": "stream",
     "text": [
      "\u001b[0m\u001b[01;32m'/mnt/c/Users/edwar/OneDrive - UTS/jupyter notebooks/49275/videoCopy/test/0up.wav'\u001b[0m\u001b[K*\n"
     ]
    }
   ],
   "source": [
    "ls '/mnt/c/Users/edwar/OneDrive - UTS/jupyter notebooks/49275/videoCopy/test/0up.wav'"
   ]
  },
  {
   "cell_type": "code",
   "execution_count": 16,
   "metadata": {},
   "outputs": [
    {
     "data": {
      "text/plain": [
       "(1, 20, 11)"
      ]
     },
     "execution_count": 16,
     "metadata": {},
     "output_type": "execute_result"
    }
   ],
   "source": [
    "np.shape(mfcc[None,...])"
   ]
  },
  {
   "cell_type": "code",
   "execution_count": 17,
   "metadata": {},
   "outputs": [
    {
     "data": {
      "text/plain": [
       "numpy.ndarray"
      ]
     },
     "execution_count": 17,
     "metadata": {},
     "output_type": "execute_result"
    }
   ],
   "source": [
    "type(mfcc)"
   ]
  },
  {
   "cell_type": "code",
   "execution_count": 18,
   "metadata": {},
   "outputs": [
    {
     "name": "stdout",
     "output_type": "stream",
     "text": [
      "1/1 [==============================] - 0s 246ms/step\n"
     ]
    },
    {
     "data": {
      "text/plain": [
       "array([[0.45574844, 0.54425156]], dtype=float32)"
      ]
     },
     "execution_count": 18,
     "metadata": {},
     "output_type": "execute_result"
    }
   ],
   "source": [
    "testDir = '/mnt/c/Users/edwar/OneDrive - UTS/jupyter notebooks/49275/videoCopy/test'\n",
    "mfcc = wav2mfcc(os.path.join(testDir, '0up.wav'))\n",
    "\n",
    "model.predict(mfcc[None,...])\n",
    "# unconfidently predicted as up"
   ]
  }
 ],
 "metadata": {
  "kernelspec": {
   "display_name": "Python 3 (ipykernel)",
   "language": "python",
   "name": "python3"
  },
  "language_info": {
   "codemirror_mode": {
    "name": "ipython",
    "version": 3
   },
   "file_extension": ".py",
   "mimetype": "text/x-python",
   "name": "python",
   "nbconvert_exporter": "python",
   "pygments_lexer": "ipython3",
   "version": "3.8.10"
  }
 },
 "nbformat": 4,
 "nbformat_minor": 4
}
