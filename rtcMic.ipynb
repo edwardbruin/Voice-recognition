{
 "cells": [
  {
   "cell_type": "code",
   "execution_count": null,
   "id": "562c7f99-b3e6-4bce-9b1d-1430079c98c9",
   "metadata": {},
   "outputs": [],
   "source": [
    "#%pip install torchaudio ipywebrtc notebook\n",
    "#sudo apt install ffmpeg"
   ]
  },
  {
   "cell_type": "code",
   "execution_count": null,
   "id": "2b129943-c68a-4606-90b8-3cd9d6501f4c",
   "metadata": {},
   "outputs": [],
   "source": [
    "from ipywebrtc import AudioRecorder, CameraStream\n",
    "import torchaudio\n",
    "from IPython.display import Audio, display\n",
    "import ipywidgets as widgets\n",
    "import os\n",
    "baseDir = os.getcwd()\n",
    "dataDir = os.path.join(baseDir, 'data')\n",
    "testDir = os.path.join(baseDir, 'test')"
   ]
  },
  {
   "cell_type": "code",
   "execution_count": null,
   "id": "0b10313f-ef9a-4951-bbea-f9a1651b7f4d",
   "metadata": {},
   "outputs": [],
   "source": [
    "camera = CameraStream(constraints={'audio': True, 'video': False})"
   ]
  },
  {
   "cell_type": "markdown",
   "id": "3d19fec1-303f-4bd1-84d8-88a5255d98e7",
   "metadata": {
    "jp-MarkdownHeadingCollapsed": true
   },
   "source": [
    "## Record training samples"
   ]
  },
  {
   "cell_type": "code",
   "execution_count": null,
   "id": "af812444-7052-41f3-8bd1-71fb1f5627af",
   "metadata": {
    "scrolled": true
   },
   "outputs": [],
   "source": [
    "#change class here\n",
    "className = 'down'\n",
    "\n",
    "os.chdir(dataDir+'/'+className)\n",
    "i = str(len(os.listdir()))\n",
    "\n",
    "recorder = AudioRecorder(stream=camera, format='webm', filename=className+i+'.webm', autosave=True)\n",
    "recorder  \n",
    "# Click the circle icon to start recording\n",
    "# Click the red circle to stop recording\n",
    "# recording is automatically saved\n",
    "# rerun cell to make a new recording"
   ]
  },
  {
   "cell_type": "markdown",
   "id": "b1ddb921-0f58-4012-b925-482a35777a3b",
   "metadata": {
    "jp-MarkdownHeadingCollapsed": true
   },
   "source": [
    "## Convert training samples to .wav"
   ]
  },
  {
   "cell_type": "code",
   "execution_count": null,
   "id": "7e317bc8-f600-4b78-99a7-94446f814b77",
   "metadata": {},
   "outputs": [],
   "source": [
    "import os\n",
    "import subprocess\n",
    "\n",
    "# Specify the directory containing your .webm files\n",
    "for folder in os.listdir(dataDir):\n",
    "    webm_directory = os.path.join(dataDir,folder)\n",
    "    #webm_directory = \"/path/to/your/webm/files\"\n",
    "\n",
    "    # Get a list of all .webm files in the directory\n",
    "    webm_files = [filename for filename in os.listdir(webm_directory) if filename.lower().endswith(\".webm\")]\n",
    "    \n",
    "    # Iterate through each .webm file\n",
    "    for webm_file in webm_files:\n",
    "        # Extract the filename without the extension\n",
    "        base_filename = os.path.splitext(webm_file)[0]\n",
    "        \n",
    "        # Construct the output .wav filename\n",
    "        wav_file = os.path.join(webm_directory, f\"{base_filename}.wav\")\n",
    "        \n",
    "        # Run the ffmpeg command to convert .webm to .wav\n",
    "        subprocess.run([\"ffmpeg\", \"-y\", \"-i\", os.path.join(webm_directory, webm_file), \"-ac\", \"1\", \"-f\", \"wav\", \"-loglevel\", \"quiet\", wav_file])\n",
    "    \n",
    "        print(f\"Converted {webm_file} to {wav_file}\")\n",
    "    \n",
    "    print(f\"Conversion completed for all files in {folder}\")\n"
   ]
  },
  {
   "cell_type": "markdown",
   "id": "0a72efa4-fd73-4eb8-a4ab-762c11106f1c",
   "metadata": {
    "jp-MarkdownHeadingCollapsed": true
   },
   "source": [
    "## Record testing samples"
   ]
  },
  {
   "cell_type": "code",
   "execution_count": null,
   "id": "1137f663-101c-4fdc-8916-5ab2632239ff",
   "metadata": {},
   "outputs": [],
   "source": [
    "#change class here\n",
    "className = 'up'\n",
    "\n",
    "os.chdir(testDir)\n",
    "i = str(len(os.listdir()))\n",
    "\n",
    "recorder = AudioRecorder(stream=camera, format='webm', filename=i+className+'.webm', autosave=True)\n",
    "recorder\n",
    "# Click the circle icon to start recording\n",
    "# Click the red circle to stop recording\n",
    "# recording is automatically saved\n",
    "# rerun cell to make a new recording"
   ]
  },
  {
   "cell_type": "markdown",
   "id": "e904b95b-2f04-499f-8d1f-650ac183eaae",
   "metadata": {
    "jp-MarkdownHeadingCollapsed": true
   },
   "source": [
    "## Convert testing samples to .wav"
   ]
  },
  {
   "cell_type": "code",
   "execution_count": null,
   "id": "ad921f51-7507-4349-b462-cb8562e7f54d",
   "metadata": {},
   "outputs": [],
   "source": [
    "import os\n",
    "import subprocess\n",
    "webm_directory = testDir\n",
    "\n",
    "# Get a list of all .webm files in the directory\n",
    "webm_files = [filename for filename in os.listdir(webm_directory) if filename.lower().endswith(\".webm\")]\n",
    "\n",
    "# Iterate through each .webm file\n",
    "for webm_file in webm_files:\n",
    "    # Extract the filename without the extension\n",
    "    base_filename = os.path.splitext(webm_file)[0]\n",
    "    \n",
    "    # Construct the output .wav filename\n",
    "    wav_file = os.path.join(webm_directory, f\"{base_filename}.wav\")\n",
    "    \n",
    "    # Run the ffmpeg command to convert .webm to .wav\n",
    "    subprocess.run([\"ffmpeg\", \"-y\", \"-i\", os.path.join(webm_directory, webm_file), \"-ac\", \"1\", \"-f\", \"wav\", \"-loglevel\", \"quiet\", wav_file])\n",
    "\n",
    "    print(f\"Converted {webm_file} to {wav_file}\")\n",
    "\n",
    "print(f\"Conversion completed for all files in test\")"
   ]
  },
  {
   "cell_type": "markdown",
   "id": "23323caa-3be0-4a85-b48a-8f6e14832f1e",
   "metadata": {
    "jp-MarkdownHeadingCollapsed": true
   },
   "source": [
    "## Check .wav conversion"
   ]
  },
  {
   "cell_type": "code",
   "execution_count": null,
   "id": "ae4df430-56d1-4f3c-b1c7-29a84ce05176",
   "metadata": {},
   "outputs": [],
   "source": [
    "dataDir\n",
    "examplefile = os.path.join(dataDir, 'up/up0.wav')\n",
    "sig, sr = torchaudio.load(examplefile)\n",
    "print(f\"Audio shape: {sig.shape}, Sample rate: {sr}\")\n",
    "Audio(data=sig, rate=sr)"
   ]
  }
 ],
 "metadata": {
  "kernelspec": {
   "display_name": "Python 3 (ipykernel)",
   "language": "python",
   "name": "python3"
  },
  "language_info": {
   "codemirror_mode": {
    "name": "ipython",
    "version": 3
   },
   "file_extension": ".py",
   "mimetype": "text/x-python",
   "name": "python",
   "nbconvert_exporter": "python",
   "pygments_lexer": "ipython3",
   "version": "3.8.10"
  }
 },
 "nbformat": 4,
 "nbformat_minor": 5
}
