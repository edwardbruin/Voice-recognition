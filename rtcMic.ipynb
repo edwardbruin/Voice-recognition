{
 "cells": [
  {
   "cell_type": "markdown",
   "id": "d62223be-9f93-42af-9d96-99fdca3ca807",
   "metadata": {},
   "source": [
    "# Record training data"
   ]
  },
  {
   "cell_type": "code",
   "execution_count": null,
   "id": "562c7f99-b3e6-4bce-9b1d-1430079c98c9",
   "metadata": {},
   "outputs": [],
   "source": [
    "#%pip install torchaudio ipywebrtc notebook\n",
    "#sudo apt install ffmpeg"
   ]
  },
  {
   "cell_type": "code",
   "execution_count": 1,
   "id": "2b129943-c68a-4606-90b8-3cd9d6501f4c",
   "metadata": {},
   "outputs": [],
   "source": [
    "from ipywebrtc import AudioRecorder, CameraStream\n",
    "#import torchaudio\n",
    "from IPython.display import Audio, display\n",
    "import ipywidgets as widgets\n",
    "import os\n",
    "import subprocess\n",
    "\n",
    "baseDir = os.getcwd()\n",
    "dataDir = os.path.join(os.getcwd(), 'data')\n",
    "testDir = os.path.join(os.getcwd(), 'test')\n",
    "\n",
    "camera = CameraStream(constraints={'audio': True, 'video': False})"
   ]
  },
  {
   "cell_type": "code",
   "execution_count": 8,
   "id": "af812444-7052-41f3-8bd1-71fb1f5627af",
   "metadata": {
    "scrolled": true
   },
   "outputs": [
    {
     "name": "stdout",
     "output_type": "stream",
     "text": [
      "recording will be saved as up6.webm once recording stops\n"
     ]
    },
    {
     "data": {
      "application/vnd.jupyter.widget-view+json": {
       "model_id": "518d12241685411ea4f57221428b929f",
       "version_major": 2,
       "version_minor": 0
      },
      "text/plain": [
       "AudioRecorder(audio=Audio(value=b'', format='webm'), autosave=True, filename='up6.webm', stream=CameraStream(c…"
      ]
     },
     "execution_count": 8,
     "metadata": {},
     "output_type": "execute_result"
    }
   ],
   "source": [
    "#change class here\n",
    "className = 'up'\n",
    "\n",
    "os.chdir(dataDir+'/'+className)\n",
    "i = str(len([f for f in os.listdir() if f.endswith('.webm')]))\n",
    "filename = className+i+'.webm'\n",
    "print(f'recording will be saved as {filename} once recording stops')\n",
    "recorder = AudioRecorder(stream=camera, format='webm', filename=filename, autosave=True)\n",
    "recorder\n",
    "# Click the circle icon to start recording\n",
    "# Click the red circle to stop recording\n",
    "# recording is automatically saved\n",
    "# rerun cell to make a new recording"
   ]
  },
  {
   "cell_type": "code",
   "execution_count": null,
   "id": "7ef7ebc3-8297-432d-8003-ef571084a67d",
   "metadata": {},
   "outputs": [],
   "source": [
    "#!ffmpeg -i record.webm -ac 1 -f wav file.wav "
   ]
  },
  {
   "cell_type": "code",
   "execution_count": null,
   "id": "7e317bc8-f600-4b78-99a7-94446f814b77",
   "metadata": {},
   "outputs": [],
   "source": [
    "\n",
    "# Specify the directory containing your .webm files\n",
    "for folder in os.listdir(dataDir):\n",
    "    webm_directory = os.path.join(dataDir,folder)\n",
    "    #webm_directory = \"/path/to/your/webm/files\"\n",
    "\n",
    "    # Get a list of all .webm files in the directory\n",
    "    webm_files = [filename for filename in os.listdir(webm_directory) if filename.lower().endswith(\".webm\")]\n",
    "    \n",
    "    # Iterate through each .webm file\n",
    "    for webm_file in webm_files:\n",
    "        # Extract the filename without the extension\n",
    "        base_filename = os.path.splitext(webm_file)[0]\n",
    "        \n",
    "        # Construct the output .wav filename\n",
    "        wav_file = os.path.join(webm_directory, f\"{base_filename}.wav\")\n",
    "        \n",
    "        # Run the ffmpeg command to convert .webm to .wav\n",
    "        subprocess.run([\"ffmpeg\", \"-y\", \"-i\", os.path.join(webm_directory, webm_file), \"-ac\", \"1\", \"-f\", \"wav\", \"-loglevel\", \"quiet\", wav_file])\n",
    "    \n",
    "        print(f\"Converted {webm_file} to {wav_file}\")\n",
    "    \n",
    "    print(f\"Conversion completed for all files in {folder}\")\n"
   ]
  },
  {
   "cell_type": "code",
   "execution_count": null,
   "id": "ae4df430-56d1-4f3c-b1c7-29a84ce05176",
   "metadata": {},
   "outputs": [],
   "source": [
    "dataDir\n",
    "examplefile = os.path.join(dataDir, 'up/up0.wav')\n",
    "sig, sr = torchaudio.load(examplefile)\n",
    "print(f\"Audio shape: {sig.shape}, Sample rate: {sr}\")\n",
    "Audio(data=sig, rate=sr)"
   ]
  },
  {
   "cell_type": "markdown",
   "id": "6a9dac1e-2dd0-4f1c-a343-dfdb661d507d",
   "metadata": {},
   "source": [
    "# Testing data"
   ]
  },
  {
   "cell_type": "markdown",
   "id": "909e09d6-e738-4f70-bba4-4ba06f8d2672",
   "metadata": {},
   "source": [
    "## Record"
   ]
  },
  {
   "cell_type": "code",
   "execution_count": null,
   "id": "1b34fdca-edc5-4420-9ea2-a4c0262b17dd",
   "metadata": {},
   "outputs": [],
   "source": [
    "from ipywebrtc import AudioRecorder, CameraStream\n",
    "#import torchaudio\n",
    "from IPython.display import Audio, display\n",
    "import ipywidgets as widgets\n",
    "import os\n",
    "import subprocess\n",
    "\n",
    "baseDir = os.getcwd()\n",
    "testDir = os.path.join(os.getcwd(), 'test')\n",
    "\n",
    "camera = CameraStream(constraints={'audio': True, 'video': False})"
   ]
  },
  {
   "cell_type": "code",
   "execution_count": null,
   "id": "f7517888-e38c-4dda-b509-77af521ec16c",
   "metadata": {},
   "outputs": [],
   "source": [
    "baseDir"
   ]
  },
  {
   "cell_type": "code",
   "execution_count": null,
   "id": "53ccf04e-0a57-4a05-a83a-89c42452208e",
   "metadata": {},
   "outputs": [],
   "source": [
    "testDir"
   ]
  },
  {
   "cell_type": "code",
   "execution_count": null,
   "id": "d8630777-a7fd-449f-9302-4bbdf6752a47",
   "metadata": {},
   "outputs": [],
   "source": [
    "os.chdir(testDir+'/'+className)\n",
    "os.listdir()"
   ]
  },
  {
   "cell_type": "code",
   "execution_count": null,
   "id": "3c87ff22-2886-4b80-a72d-4679388fa1ad",
   "metadata": {},
   "outputs": [],
   "source": [
    "i = str(len([f for f in os.listdir() if f.endswith('.wav')]))\n"
   ]
  },
  {
   "cell_type": "code",
   "execution_count": null,
   "id": "292ea657-04c5-4b5f-a1b9-be562a4aaedb",
   "metadata": {},
   "outputs": [],
   "source": [
    "className+i+'.webm'"
   ]
  },
  {
   "cell_type": "code",
   "execution_count": null,
   "id": "06f8df5f-d00f-475a-ba4e-c1cf94dda7ee",
   "metadata": {},
   "outputs": [],
   "source": [
    "#change class here\n",
    "className = 'up'\n",
    "\n",
    "os.chdir(testDir+'/'+className)\n",
    "i = str(len([f for f in os.listdir() if f.endswith('.webm')]))\n",
    "filename = className+i+'.webm'\n",
    "print(f'recording will be saved as {filename} once recording stops')\n",
    "recorder = AudioRecorder(stream=camera, format='webm', filename=filename, autosave=True)\n",
    "recorder\n",
    "# Click the circle icon to start recording\n",
    "# Click the red circle to stop recording\n",
    "# recording is automatically saved\n",
    "# rerun cell to make a new recording"
   ]
  },
  {
   "cell_type": "markdown",
   "id": "2305c4a3-d719-4580-bb23-aa1115cc1a25",
   "metadata": {},
   "source": [
    "## Convert"
   ]
  },
  {
   "cell_type": "code",
   "execution_count": null,
   "id": "375da03e-374c-4d6e-89a3-070c294e9cf5",
   "metadata": {},
   "outputs": [],
   "source": [
    "import os\n",
    "import subprocess\n",
    "\n",
    "# Specify the directory containing your .webm files\n",
    "for folder in os.listdir(testDir):\n",
    "    webm_directory = os.path.join(testDir,folder)\n",
    "    #webm_directory = \"/path/to/your/webm/files\"\n",
    "\n",
    "    # Get a list of all .webm files in the directory\n",
    "    webm_files = [filename for filename in os.listdir(webm_directory) if filename.lower().endswith(\".webm\")]\n",
    "    \n",
    "    # Iterate through each .webm file\n",
    "    for webm_file in webm_files:\n",
    "        # Extract the filename without the extension\n",
    "        base_filename = os.path.splitext(webm_file)[0]\n",
    "        \n",
    "        # Construct the output .wav filename\n",
    "        wav_file = os.path.join(webm_directory, f\"{base_filename}.wav\")\n",
    "        \n",
    "        # Run the ffmpeg command to convert .webm to .wav\n",
    "        subprocess.run([\"ffmpeg\", \"-y\", \"-i\", os.path.join(webm_directory, webm_file), \"-ac\", \"1\", \"-f\", \"wav\", \"-loglevel\", \"quiet\", wav_file])\n",
    "    \n",
    "        print(f\"Converted {webm_file} to {wav_file}\")\n",
    "    \n",
    "    print(f\"Conversion completed for all files in {folder}\")\n"
   ]
  },
  {
   "cell_type": "code",
   "execution_count": null,
   "id": "8685f5b7-9995-4b26-b458-5730b5e27b4c",
   "metadata": {},
   "outputs": [],
   "source": []
  }
 ],
 "metadata": {
  "kernelspec": {
   "display_name": "Python 3 (ipykernel)",
   "language": "python",
   "name": "python3"
  },
  "language_info": {
   "codemirror_mode": {
    "name": "ipython",
    "version": 3
   },
   "file_extension": ".py",
   "mimetype": "text/x-python",
   "name": "python",
   "nbconvert_exporter": "python",
   "pygments_lexer": "ipython3",
   "version": "3.8.10"
  }
 },
 "nbformat": 4,
 "nbformat_minor": 5
}
